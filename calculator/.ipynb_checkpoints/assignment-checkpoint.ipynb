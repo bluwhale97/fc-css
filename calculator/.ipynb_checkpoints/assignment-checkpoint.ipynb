{
 "cells": [
  {
   "cell_type": "markdown",
   "metadata": {},
   "source": [
    "# 후위 표기법 계산기\n",
    "## assignment : convert_to_postfix 함수 완성하기\n",
    "## convert_to_postfix는 입력 받은 중위 표기법 수식을\n",
    "## 후위 표기법 수식으로 바꾸는 함수입니다.\n",
    "## 함수를 완성한 후 2번 셀을 실행하면 출력 행에 나와있는\n",
    "## 결과처럼 변환된 후위 표기법 수식을 출력한 후 \n",
    "## 원래 수식과 그 결과값을 출력합니다.\n",
    "## 다양한 수식을 테스트해 보세요~"
   ]
  },
  {
   "cell_type": "code",
   "execution_count": 1,
   "metadata": {},
   "outputs": [],
   "source": [
    "from stack import Stack\n",
    "\n",
    "def get_weight(oprt):\n",
    "    \"\"\"\n",
    "    get_weight(operator)-> value\n",
    "    operator : '*' or '/' or '+' or '-' or '('\n",
    "    value : 가중치\n",
    "    \"\"\"\n",
    "    if oprt=='*' or oprt=='/':\n",
    "        return 9\n",
    "    elif oprt=='+' or oprt=='-':\n",
    "        return 7\n",
    "    elif oprt=='(':\n",
    "        return 5\n",
    "\n",
    "def convert_to_postfix(infix_expression):\n",
    "    \"\"\"\n",
    "    convert_to_postfix(infix_expression)->postfix_expression\n",
    "    infix_expression : 중위 표기법 수식\n",
    "    입력받은 문자열입니다.\n",
    "    postfix_expression : 후위 표기법 수식\n",
    "    반환값도 문자열입니다. \n",
    "    \"\"\"\n",
    "    infix_expression.pop\n",
    "    pass\n",
    "\n",
    "def calc_two_oprd(oprd1, oprd2, oprt):\n",
    "    \"\"\"\n",
    "    calc_two_oprd(oprd1, oprd2, oprt)->value\n",
    "    oprd1, oprd2 : 피연산자입니다. 정수형 데이터를 받습니다.\n",
    "    oprt : 연산자입니다. 문자입니다. 예를 들어, '+', '/', '*', '/'\n",
    "    value : 반환값은 두 피연산자를 연산자로 계산한 결과입니다.\n",
    "    \"\"\"\n",
    "    if oprt=='+':\n",
    "        return oprd1+oprd2\n",
    "    elif oprt=='-':\n",
    "        return oprd1-oprd2\n",
    "    elif oprt=='*':\n",
    "        return oprd1*oprd2\n",
    "    elif oprt=='/':\n",
    "        return oprd1//oprd2\n",
    "\n",
    "def calculate(postfix_expression):\n",
    "    \"\"\"\n",
    "    calculate(postfix_expression)->value\n",
    "    postfix_expression : 후위표기법 수식입니다.\n",
    "    문자열입니다.\n",
    "    value : 후위표기법 수식을 계산한 결과입니다.\n",
    "    \"\"\"\n",
    "    oprd_stack=Stack()\n",
    "\n",
    "    for ch in postfix_expression:\n",
    "        if ch.isdigit():\n",
    "            oprd_stack.push(int(ch))\n",
    "        else:\n",
    "            oprd2=oprd_stack.pop()\n",
    "            oprd1=oprd_stack.pop()\n",
    "            oprd_stack.push(calc_two_oprd(oprd1, oprd2, ch))\n",
    "\n",
    "    return oprd_stack.pop()"
   ]
  },
  {
   "cell_type": "code",
   "execution_count": 2,
   "metadata": {},
   "outputs": [
    {
     "name": "stdout",
     "output_type": "stream",
     "text": [
      "수식을 입력하세요 (종료:0):(3 + 2 * 2 - 4) * 3 + 2 *(5 - 7)\n",
      "322*+4-3*257-*+\n",
      "(3+2*2-4)*3+2*(5-7)=5\n",
      "수식을 입력하세요 (종료:0):5 * 7 - 5 / 3 + 2 + 5 * 3\n",
      "57*53/-2+53*+\n",
      "5*7-5/3+2+5*3=51\n",
      "수식을 입력하세요 (종료:0):7 - 3 * 5 / 2 + (3 * 5 - 2 * 3)\n",
      "735*2/-35*23*-+\n",
      "7-3*5/2+(3*5-2*3)=9\n",
      "수식을 입력하세요 (종료:0):6 * (5 - 2 * 3) - (3 * 2 + 3 / 2 + 1)\n",
      "6523*-*32*32/+1+-\n",
      "6*(5-2*3)-(3*2+3/2+1)=-14\n",
      "수식을 입력하세요 (종료:0):0\n"
     ]
    }
   ],
   "source": [
    "while True:\n",
    "    infix_exp=input(\"수식을 입력하세요 (종료:0):\")\n",
    "    infix_exp=infix_exp.replace(' ', '')\n",
    "    if infix_exp=='0':\n",
    "        break\n",
    "    postfix_exp=convert_to_postfix(infix_exp)\n",
    "    print(postfix_exp)\n",
    "    print('{exp}={result}'.format(exp=infix_exp, result=calculate(postfix_exp)))"
   ]
  },
  {
   "cell_type": "code",
   "execution_count": null,
   "metadata": {},
   "outputs": [],
   "source": []
  }
 ],
 "metadata": {
  "kernelspec": {
   "display_name": "Python 3",
   "language": "python",
   "name": "python3"
  },
  "language_info": {
   "codemirror_mode": {
    "name": "ipython",
    "version": 3
   },
   "file_extension": ".py",
   "mimetype": "text/x-python",
   "name": "python",
   "nbconvert_exporter": "python",
   "pygments_lexer": "ipython3",
   "version": "3.7.2"
  }
 },
 "nbformat": 4,
 "nbformat_minor": 2
}
