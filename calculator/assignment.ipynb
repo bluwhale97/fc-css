{
 "cells": [
  {
   "cell_type": "markdown",
   "metadata": {},
   "source": [
    "# 후위 표기법 계산기\n",
    "## assignment : convert_to_postfix 함수 완성하기\n",
    "## convert_to_postfix는 입력 받은 중위 표기법 수식을\n",
    "## 후위 표기법 수식으로 바꾸는 함수입니다.\n",
    "## 함수를 완성한 후 2번 셀을 실행하면 출력 행에 나와있는\n",
    "## 결과처럼 변환된 후위 표기법 수식을 출력한 후 \n",
    "## 원래 수식과 그 결과값을 출력합니다.\n",
    "## 다양한 수식을 테스트해 보세요~"
   ]
  },
  {
   "cell_type": "code",
   "execution_count": 27,
   "metadata": {},
   "outputs": [
    {
     "ename": "NameError",
     "evalue": "name 'isdigit' is not defined",
     "output_type": "error",
     "traceback": [
      "\u001b[1;31m---------------------------------------------------------------------------\u001b[0m",
      "\u001b[1;31mNameError\u001b[0m                                 Traceback (most recent call last)",
      "\u001b[1;32m<ipython-input-27-bc3909b79e87>\u001b[0m in \u001b[0;36m<module>\u001b[1;34m\u001b[0m\n\u001b[1;32m----> 1\u001b[1;33m \u001b[0mhelp\u001b[0m\u001b[1;33m(\u001b[0m\u001b[0misdigit\u001b[0m\u001b[1;33m(\u001b[0m\u001b[1;33m)\u001b[0m\u001b[1;33m)\u001b[0m\u001b[1;33m\u001b[0m\u001b[1;33m\u001b[0m\u001b[0m\n\u001b[0m",
      "\u001b[1;31mNameError\u001b[0m: name 'isdigit' is not defined"
     ]
    }
   ],
   "source": [
    "help(isdigit())"
   ]
  },
  {
   "cell_type": "code",
   "execution_count": 23,
   "metadata": {},
   "outputs": [],
   "source": [
    "from stack import Stack\n",
    "\n",
    "def get_weight(oprt):\n",
    "    \"\"\"\n",
    "    get_weight(operator)-> value\n",
    "    operator : '*' or '/' or '+' or '-' or '('\n",
    "    value : 가중치\n",
    "    \"\"\"\n",
    "    if oprt=='*' or oprt=='/':\n",
    "        return 9\n",
    "    elif oprt=='+' or oprt=='-':\n",
    "        return 7\n",
    "    elif oprt=='(':\n",
    "        return 5\n",
    "    else:\n",
    "        return 3\n",
    "\n",
    "def convert_to_postfix(infix_expression):\n",
    "    \"\"\"\n",
    "    convert_to_postfix(infix_expression)->postfix_expression\n",
    "    infix_expression : 중위 표기법 수식\n",
    "    입력받은 문자열입니다.\n",
    "    postfix_expression : 후위 표기법 수식\n",
    "    반환값도 문자열입니다. \n",
    "    \"\"\"\n",
    "    \n",
    "    s = Stack()\n",
    "    list_exp = [] \n",
    "    for i in str_:\n",
    "        weight_in = 0\n",
    "        weight_peek = 0\n",
    "        if i.isdigit == True:\n",
    "            s.push(i)\n",
    "        elif i == \"(\" or s.empty():\n",
    "            s.push(i)\n",
    "        elif \n",
    "            elif weight_in <= weight_peek:\n",
    "                list_exp.append(s.pop())\n",
    "                s.push(weight_in)\n",
    "            elif i == \")\":\n",
    "                while not s.empty():\n",
    "                    list_exp.append(s.pop())\n",
    "            \n",
    "                \n",
    "    return list_exp\n",
    "        \n",
    "def calc_two_oprd(oprd1, oprd2, oprt):\n",
    "    \"\"\"\n",
    "    calc_two_oprd(oprd1, oprd2, oprt)->value\n",
    "    oprd1, oprd2 : 피연산자입니다. 정수형 데이터를 받습니다.\n",
    "    oprt : 연산자입니다. 문자입니다. 예를 들어, '+', '/', '*', '/'\n",
    "    value : 반환값은 두 피연산자를 연산자로 계산한 결과입니다.\n",
    "    \"\"\"\n",
    "    if oprt=='+':\n",
    "        return oprd1+oprd2\n",
    "    elif oprt=='-':\n",
    "        return oprd1-oprd2\n",
    "    elif oprt=='*':\n",
    "        return oprd1*oprd2\n",
    "    elif oprt=='/':\n",
    "        return oprd1//oprd2\n",
    "\n",
    "def calculate(postfix_expression):\n",
    "    \"\"\"\n",
    "    calculate(postfix_expression)->value\n",
    "    postfix_expression : 후위표기법 수식입니다.\n",
    "    문자열입니다.\n",
    "    value : 후위표기법 수식을 계산한 결과입니다.\n",
    "    \"\"\"\n",
    "    oprd_stack=Stack()\n",
    "\n",
    "    for ch in postfix_expression:\n",
    "        if ch.isdigit():\n",
    "            oprd_stack.push(int(ch))\n",
    "        else:\n",
    "            oprd2=oprd_stack.pop()\n",
    "            oprd1=oprd_stack.pop()\n",
    "            oprd_stack.push(calc_two_oprd(oprd1, oprd2, ch))\n",
    "\n",
    "    return oprd_stack.pop()"
   ]
  },
  {
   "cell_type": "code",
   "execution_count": 24,
   "metadata": {},
   "outputs": [
    {
     "name": "stdout",
     "output_type": "stream",
     "text": [
      "수식을 입력하세요 (종료:0):1+1\n",
      "[]\n"
     ]
    },
    {
     "ename": "IndexError",
     "evalue": "pop from empty list",
     "output_type": "error",
     "traceback": [
      "\u001b[1;31m---------------------------------------------------------------------------\u001b[0m",
      "\u001b[1;31mIndexError\u001b[0m                                Traceback (most recent call last)",
      "\u001b[1;32m<ipython-input-24-cab528c3d138>\u001b[0m in \u001b[0;36m<module>\u001b[1;34m\u001b[0m\n\u001b[0;32m      6\u001b[0m     \u001b[0mpostfix_exp\u001b[0m\u001b[1;33m=\u001b[0m\u001b[0mconvert_to_postfix\u001b[0m\u001b[1;33m(\u001b[0m\u001b[0minfix_exp\u001b[0m\u001b[1;33m)\u001b[0m\u001b[1;33m\u001b[0m\u001b[1;33m\u001b[0m\u001b[0m\n\u001b[0;32m      7\u001b[0m     \u001b[0mprint\u001b[0m\u001b[1;33m(\u001b[0m\u001b[0mpostfix_exp\u001b[0m\u001b[1;33m)\u001b[0m\u001b[1;33m\u001b[0m\u001b[1;33m\u001b[0m\u001b[0m\n\u001b[1;32m----> 8\u001b[1;33m     \u001b[0mprint\u001b[0m\u001b[1;33m(\u001b[0m\u001b[1;34m'{exp}={result}'\u001b[0m\u001b[1;33m.\u001b[0m\u001b[0mformat\u001b[0m\u001b[1;33m(\u001b[0m\u001b[0mexp\u001b[0m\u001b[1;33m=\u001b[0m\u001b[0minfix_exp\u001b[0m\u001b[1;33m,\u001b[0m \u001b[0mresult\u001b[0m\u001b[1;33m=\u001b[0m\u001b[0mcalculate\u001b[0m\u001b[1;33m(\u001b[0m\u001b[0mpostfix_exp\u001b[0m\u001b[1;33m)\u001b[0m\u001b[1;33m)\u001b[0m\u001b[1;33m)\u001b[0m\u001b[1;33m\u001b[0m\u001b[1;33m\u001b[0m\u001b[0m\n\u001b[0m",
      "\u001b[1;32m<ipython-input-23-021c36839ffc>\u001b[0m in \u001b[0;36mcalculate\u001b[1;34m(postfix_expression)\u001b[0m\n\u001b[0;32m     81\u001b[0m             \u001b[0moprd_stack\u001b[0m\u001b[1;33m.\u001b[0m\u001b[0mpush\u001b[0m\u001b[1;33m(\u001b[0m\u001b[0mcalc_two_oprd\u001b[0m\u001b[1;33m(\u001b[0m\u001b[0moprd1\u001b[0m\u001b[1;33m,\u001b[0m \u001b[0moprd2\u001b[0m\u001b[1;33m,\u001b[0m \u001b[0mch\u001b[0m\u001b[1;33m)\u001b[0m\u001b[1;33m)\u001b[0m\u001b[1;33m\u001b[0m\u001b[1;33m\u001b[0m\u001b[0m\n\u001b[0;32m     82\u001b[0m \u001b[1;33m\u001b[0m\u001b[0m\n\u001b[1;32m---> 83\u001b[1;33m     \u001b[1;32mreturn\u001b[0m \u001b[0moprd_stack\u001b[0m\u001b[1;33m.\u001b[0m\u001b[0mpop\u001b[0m\u001b[1;33m(\u001b[0m\u001b[1;33m)\u001b[0m\u001b[1;33m\u001b[0m\u001b[1;33m\u001b[0m\u001b[0m\n\u001b[0m",
      "\u001b[1;32m~\\Documents\\css\\calculator\\stack.py\u001b[0m in \u001b[0;36mpop\u001b[1;34m(self)\u001b[0m\n\u001b[0;32m     13\u001b[0m \u001b[1;33m\u001b[0m\u001b[0m\n\u001b[0;32m     14\u001b[0m     \u001b[1;32mdef\u001b[0m \u001b[0mpop\u001b[0m\u001b[1;33m(\u001b[0m\u001b[0mself\u001b[0m\u001b[1;33m)\u001b[0m\u001b[1;33m:\u001b[0m\u001b[1;33m\u001b[0m\u001b[1;33m\u001b[0m\u001b[0m\n\u001b[1;32m---> 15\u001b[1;33m         \u001b[1;32mreturn\u001b[0m \u001b[0mself\u001b[0m\u001b[1;33m.\u001b[0m\u001b[0mcontainer\u001b[0m\u001b[1;33m.\u001b[0m\u001b[0mpop\u001b[0m\u001b[1;33m(\u001b[0m\u001b[1;33m)\u001b[0m\u001b[1;33m\u001b[0m\u001b[1;33m\u001b[0m\u001b[0m\n\u001b[0m\u001b[0;32m     16\u001b[0m \u001b[1;33m\u001b[0m\u001b[0m\n\u001b[0;32m     17\u001b[0m     \u001b[1;32mdef\u001b[0m \u001b[0mpeek\u001b[0m\u001b[1;33m(\u001b[0m\u001b[0mself\u001b[0m\u001b[1;33m)\u001b[0m\u001b[1;33m:\u001b[0m\u001b[1;33m\u001b[0m\u001b[1;33m\u001b[0m\u001b[0m\n",
      "\u001b[1;31mIndexError\u001b[0m: pop from empty list"
     ]
    }
   ],
   "source": [
    "while True:\n",
    "    infix_exp=input(\"수식을 입력하세요 (종료:0):\")\n",
    "    infix_exp=infix_exp.replace(' ', '')\n",
    "    if infix_exp=='0':\n",
    "        break\n",
    "    postfix_exp=convert_to_postfix(infix_exp)\n",
    "    print(postfix_exp)\n",
    "    print('{exp}={result}'.format(exp=infix_exp, result=calculate(postfix_exp)))"
   ]
  },
  {
   "cell_type": "code",
   "execution_count": null,
   "metadata": {},
   "outputs": [],
   "source": []
  }
 ],
 "metadata": {
  "kernelspec": {
   "display_name": "Python 3",
   "language": "python",
   "name": "python3"
  },
  "language_info": {
   "codemirror_mode": {
    "name": "ipython",
    "version": 3
   },
   "file_extension": ".py",
   "mimetype": "text/x-python",
   "name": "python",
   "nbconvert_exporter": "python",
   "pygments_lexer": "ipython3",
   "version": "3.7.2"
  }
 },
 "nbformat": 4,
 "nbformat_minor": 2
}
