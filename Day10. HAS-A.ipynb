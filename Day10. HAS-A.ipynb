{
 "cells": [
  {
   "cell_type": "markdown",
   "metadata": {},
   "source": [
    "# composition"
   ]
  },
  {
   "cell_type": "code",
   "execution_count": 1,
   "metadata": {},
   "outputs": [],
   "source": [
    "class Cpu:\n",
    "    def __init__(self, maker):\n",
    "        self.maker = maker\n",
    "        \n",
    "\n",
    "class Ram:\n",
    "    pass\n",
    "\n",
    "class Computer:\n",
    "    def __init__(self, maker):\n",
    "        self.cpu = Cpu(maker)\n",
    "        self.ram = Ram()\n",
    "        \n",
    "com = Computer('intel')"
   ]
  },
  {
   "cell_type": "code",
   "execution_count": 2,
   "metadata": {},
   "outputs": [],
   "source": [
    "del com"
   ]
  },
  {
   "cell_type": "markdown",
   "metadata": {},
   "source": [
    "# aggregation"
   ]
  },
  {
   "cell_type": "code",
   "execution_count": 15,
   "metadata": {},
   "outputs": [],
   "source": [
    "class Gun:\n",
    "    def __init__(self, kind):\n",
    "        self.kink = kind\n",
    "        \n",
    "    def bbang(self):\n",
    "        print(\"bbang!\")\n",
    "\n",
    "class Police:\n",
    "    def __init__(self, gun = None):\n",
    "        self.gun = gun       \n",
    "\n",
    "    def acquire_gun(self, gun):\n",
    "        self.gun = gun\n",
    "    \n",
    "    def release_gun(self):\n",
    "        gun = self.gun\n",
    "        self.gun = None\n",
    "        return gun\n",
    "    \n",
    "    def shoot(self):\n",
    "        if not self.gun:\n",
    "            print(\"미지급 되었습니다.\")\n",
    "        else:\n",
    "            self.gun.bbang()"
   ]
  },
  {
   "cell_type": "code",
   "execution_count": 16,
   "metadata": {},
   "outputs": [],
   "source": [
    "gun = Gun(\"machine gun\")"
   ]
  },
  {
   "cell_type": "code",
   "execution_count": 17,
   "metadata": {},
   "outputs": [],
   "source": [
    "p1 = Police()"
   ]
  },
  {
   "cell_type": "code",
   "execution_count": 18,
   "metadata": {},
   "outputs": [],
   "source": [
    "p1.acquire_gun(gun)\n",
    "gun = None\n",
    "# gun 객체에 대한 컨트롤을 p1에게 넘겨 주었기 때문에 연결을 None값을 넣어주어 끊어준다"
   ]
  },
  {
   "cell_type": "code",
   "execution_count": 19,
   "metadata": {},
   "outputs": [
    {
     "name": "stdout",
     "output_type": "stream",
     "text": [
      "bbang!\n"
     ]
    }
   ],
   "source": [
    "p1.shoot()"
   ]
  },
  {
   "cell_type": "code",
   "execution_count": 20,
   "metadata": {},
   "outputs": [],
   "source": [
    "gun = p1.release_gun()"
   ]
  },
  {
   "cell_type": "code",
   "execution_count": 21,
   "metadata": {},
   "outputs": [
    {
     "name": "stdout",
     "output_type": "stream",
     "text": [
      "미지급 되었습니다.\n"
     ]
    }
   ],
   "source": [
    "p1.shoot()"
   ]
  },
  {
   "cell_type": "code",
   "execution_count": null,
   "metadata": {},
   "outputs": [],
   "source": []
  }
 ],
 "metadata": {
  "kernelspec": {
   "display_name": "Python 3",
   "language": "python",
   "name": "python3"
  },
  "language_info": {
   "codemirror_mode": {
    "name": "ipython",
    "version": 3
   },
   "file_extension": ".py",
   "mimetype": "text/x-python",
   "name": "python",
   "nbconvert_exporter": "python",
   "pygments_lexer": "ipython3",
   "version": "3.7.2"
  }
 },
 "nbformat": 4,
 "nbformat_minor": 2
}
