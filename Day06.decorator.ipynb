{
 "cells": [
  {
   "cell_type": "markdown",
   "metadata": {},
   "source": [
    "# benchmaker"
   ]
  },
  {
   "cell_type": "code",
   "execution_count": 23,
   "metadata": {},
   "outputs": [],
   "source": [
    "import time\n",
    "from functools import wraps\n",
    "\n",
    "# 함수의 시간을 계산할 함수\n",
    "def benchmaker(org_function):\n",
    "    @wraps(org_function)\n",
    "    def inner(*args, **kwargs):\n",
    "        start = time.time()     \n",
    "        result = org_function(*args, **kwargs)\n",
    "        elapsed = time.time()-start\n",
    "        # 지금시간으로 부터 실행시작 시점을 빼면 실행 시간\n",
    "        print(\"elapsed time: {}\".format(round(elapsed, 1)))\n",
    "        return result\n",
    "    return inner"
   ]
  },
  {
   "cell_type": "code",
   "execution_count": 24,
   "metadata": {},
   "outputs": [
    {
     "data": {
      "text/plain": [
       "1548735719.227293"
      ]
     },
     "execution_count": 24,
     "metadata": {},
     "output_type": "execute_result"
    }
   ],
   "source": [
    "import time\n",
    "time.time()\n",
    "# 현재 시간을 초단위로 : 에포치(epoch: 1970.01.01. 0시)\n",
    "# epoch로 부터 지난 시간을 초단위로 보여준다"
   ]
  },
  {
   "cell_type": "code",
   "execution_count": 25,
   "metadata": {},
   "outputs": [
    {
     "name": "stdout",
     "output_type": "stream",
     "text": [
      "elapsed time: 5.0\n"
     ]
    },
    {
     "data": {
      "text/plain": [
       "3"
      ]
     },
     "execution_count": 25,
     "metadata": {},
     "output_type": "execute_result"
    }
   ],
   "source": [
    "@benchmaker\n",
    "def func(a,b):\n",
    "    time.sleep(5)\n",
    "    # 초단위로 인터럽트를 거는것 (함수를 중단 시킨다)\n",
    "    return a+b\n",
    "\n",
    "func(1,2)"
   ]
  },
  {
   "cell_type": "code",
   "execution_count": null,
   "metadata": {},
   "outputs": [],
   "source": []
  }
 ],
 "metadata": {
  "kernelspec": {
   "display_name": "Python 3",
   "language": "python",
   "name": "python3"
  },
  "language_info": {
   "codemirror_mode": {
    "name": "ipython",
    "version": 3
   },
   "file_extension": ".py",
   "mimetype": "text/x-python",
   "name": "python",
   "nbconvert_exporter": "python",
   "pygments_lexer": "ipython3",
   "version": "3.7.2"
  }
 },
 "nbformat": 4,
 "nbformat_minor": 2
}
