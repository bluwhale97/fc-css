{
 "cells": [
  {
   "cell_type": "code",
   "execution_count": 2,
   "metadata": {},
   "outputs": [],
   "source": [
    "import requests\n",
    "from bs4 import BeautifulSoup\n",
    "import lxml"
   ]
  },
  {
   "cell_type": "code",
   "execution_count": 3,
   "metadata": {},
   "outputs": [
    {
     "data": {
      "text/plain": [
       "<Response [200]>"
      ]
     },
     "execution_count": 3,
     "metadata": {},
     "output_type": "execute_result"
    }
   ],
   "source": [
    "tomato_uri = \"https://www.rottentomatoes.com/\"\n",
    "response = requests.get(tomato_uri)\n",
    "response"
   ]
  },
  {
   "cell_type": "code",
   "execution_count": 4,
   "metadata": {},
   "outputs": [
    {
     "data": {
      "text/plain": [
       "'<!DOCTYPE html>\\n<html lang=\"en\"\\n      dit=\"ltr\"\\n      xmlns:fb=\"http://www.facebook.com/2008/fbml\"\\n      xmlns:og=\"http://opengraphprotocol.org/schema/\">\\n\\n    <head prefix=\"og: http://ogp.me/ns# flixstertomatoes: http://ogp.me/ns/apps/flixstertomatoes#\">\\n\\n        <!-- salt=lay-def-02-juRm -->\\n        <meta http-equiv=\"Content-Type\" content=\"text/html; charset=utf-8\" />\\n        <meta http-equiv=\"x-ua-compatible\" content=\"ie=edge\">\\n        <meta name=\"viewport\" content=\"width=device-width, initial-scale=1\">\\n\\n        <title>Rotten Tomatoes: Movies | TV Shows | Movie Trailers | Reviews - Rotten Tomatoes</title>\\n        <meta name=\"description\" content=\"Rotten Tomatoes, home of the Tomatometer, is the most trusted measurement of quality for Movies & TV. The definitive site for Reviews, Trailers, Showtimes, and Tickets\">\\n\\n        \\n            <link rel=\"canonical\" href=\"https://www.rottentomatoes.com/\">\\n        \\n\\n        \\n            \\n        \\n\\n        <link rel=\"shortcut icon\" sizes=\"76x76\"'"
      ]
     },
     "execution_count": 4,
     "metadata": {},
     "output_type": "execute_result"
    }
   ],
   "source": [
    "html = response.text\n",
    "html[:1000]"
   ]
  },
  {
   "cell_type": "code",
   "execution_count": 5,
   "metadata": {},
   "outputs": [],
   "source": [
    "soup = BeautifulSoup(html, \"lxml\")\n",
    "table = soup.find(\"table\", attrs={\"id\" : \"Top-Box-Office\"})"
   ]
  },
  {
   "cell_type": "code",
   "execution_count": 6,
   "metadata": {},
   "outputs": [
    {
     "data": {
      "text/plain": [
       "[<tr class=\"sidebarInTheaterOpening\">\n",
       " <td class=\"left_col\">\n",
       " <a href=\"/m/how_to_train_your_dragon_the_hidden_world\">\n",
       " <span class=\"icon tiny certified_fresh\"></span>\n",
       " <span class=\"tMeterScore\">91%</span>\n",
       " </a>\n",
       " </td>\n",
       " <td class=\"middle_col\">\n",
       " <a href=\"/m/how_to_train_your_dragon_the_hidden_world\">How to Train Your Dragon: The Hidden World</a>\n",
       " </td>\n",
       " <td class=\"right_col right\">\n",
       " <a href=\"/m/how_to_train_your_dragon_the_hidden_world\">$30.1M</a>\n",
       " </td>\n",
       " </tr>, <tr class=\"sidebarInTheaterOpening\">\n",
       " <td class=\"left_col\">\n",
       " <a href=\"/m/tyler_perrys_a_madea_family_funeral\">\n",
       " <span class=\"icon tiny rotten\"></span>\n",
       " <span class=\"tMeterScore\">22%</span>\n",
       " </a>\n",
       " </td>\n",
       " <td class=\"middle_col\">\n",
       " <a href=\"/m/tyler_perrys_a_madea_family_funeral\">Tyler Perry's A Madea Family Funeral</a>\n",
       " </td>\n",
       " <td class=\"right_col right\">\n",
       " <a href=\"/m/tyler_perrys_a_madea_family_funeral\">$27.1M</a>\n",
       " </td>\n",
       " </tr>, <tr class=\"sidebarInTheaterOpening\">\n",
       " <td class=\"left_col\">\n",
       " <a href=\"/m/alita_battle_angel\">\n",
       " <span class=\"icon tiny fresh\"></span>\n",
       " <span class=\"tMeterScore\">60%</span>\n",
       " </a>\n",
       " </td>\n",
       " <td class=\"middle_col\">\n",
       " <a href=\"/m/alita_battle_angel\">Alita: Battle Angel</a>\n",
       " </td>\n",
       " <td class=\"right_col right\">\n",
       " <a href=\"/m/alita_battle_angel\">$7M</a>\n",
       " </td>\n",
       " </tr>, <tr class=\"sidebarInTheaterOpening\">\n",
       " <td class=\"left_col\">\n",
       " <a href=\"/m/the_lego_movie_2_the_second_part\">\n",
       " <span class=\"icon tiny certified_fresh\"></span>\n",
       " <span class=\"tMeterScore\">86%</span>\n",
       " </a>\n",
       " </td>\n",
       " <td class=\"middle_col\">\n",
       " <a href=\"/m/the_lego_movie_2_the_second_part\">The LEGO Movie 2: The Second Part</a>\n",
       " </td>\n",
       " <td class=\"right_col right\">\n",
       " <a href=\"/m/the_lego_movie_2_the_second_part\">$6.7M</a>\n",
       " </td>\n",
       " </tr>, <tr class=\"sidebarInTheaterOpening\">\n",
       " <td class=\"left_col\">\n",
       " <a href=\"/m/fighting_with_my_family\">\n",
       " <span class=\"icon tiny certified_fresh\"></span>\n",
       " <span class=\"tMeterScore\">92%</span>\n",
       " </a>\n",
       " </td>\n",
       " <td class=\"middle_col\">\n",
       " <a href=\"/m/fighting_with_my_family\">Fighting with My Family</a>\n",
       " </td>\n",
       " <td class=\"right_col right\">\n",
       " <a href=\"/m/fighting_with_my_family\">$5M</a>\n",
       " </td>\n",
       " </tr>, <tr class=\"sidebarInTheaterOpening\">\n",
       " <td class=\"left_col\">\n",
       " <a href=\"/m/isnt_it_romantic_2019\">\n",
       " <span class=\"icon tiny fresh\"></span>\n",
       " <span class=\"tMeterScore\">68%</span>\n",
       " </a>\n",
       " </td>\n",
       " <td class=\"middle_col\">\n",
       " <a href=\"/m/isnt_it_romantic_2019\">Isn't It Romantic</a>\n",
       " </td>\n",
       " <td class=\"right_col right\">\n",
       " <a href=\"/m/isnt_it_romantic_2019\">$4.8M</a>\n",
       " </td>\n",
       " </tr>, <tr class=\"sidebarInTheaterOpening\">\n",
       " <td class=\"left_col\">\n",
       " <a href=\"/m/green_book\">\n",
       " <span class=\"icon tiny certified_fresh\"></span>\n",
       " <span class=\"tMeterScore\">79%</span>\n",
       " </a>\n",
       " </td>\n",
       " <td class=\"middle_col\">\n",
       " <a href=\"/m/green_book\">Green Book</a>\n",
       " </td>\n",
       " <td class=\"right_col right\">\n",
       " <a href=\"/m/green_book\">$4.8M</a>\n",
       " </td>\n",
       " </tr>, <tr class=\"sidebarInTheaterOpening\">\n",
       " <td class=\"left_col\">\n",
       " <a href=\"/m/greta_2019\">\n",
       " <span class=\"icon tiny rotten\"></span>\n",
       " <span class=\"tMeterScore\">58%</span>\n",
       " </a>\n",
       " </td>\n",
       " <td class=\"middle_col\">\n",
       " <a href=\"/m/greta_2019\">Greta</a>\n",
       " </td>\n",
       " <td class=\"right_col right\">\n",
       " <a href=\"/m/greta_2019\">$4.7M</a>\n",
       " </td>\n",
       " </tr>, <tr class=\"sidebarInTheaterOpening\">\n",
       " <td class=\"left_col\">\n",
       " <a href=\"/m/what_men_want_2019\">\n",
       " <span class=\"icon tiny rotten\"></span>\n",
       " <span class=\"tMeterScore\">45%</span>\n",
       " </a>\n",
       " </td>\n",
       " <td class=\"middle_col\">\n",
       " <a href=\"/m/what_men_want_2019\">What Men Want</a>\n",
       " </td>\n",
       " <td class=\"right_col right\">\n",
       " <a href=\"/m/what_men_want_2019\">$2.8M</a>\n",
       " </td>\n",
       " </tr>, <tr class=\"sidebarInTheaterOpening\">\n",
       " <td class=\"left_col\">\n",
       " <a href=\"/m/happy_death_day_2u\">\n",
       " <span class=\"icon tiny fresh\"></span>\n",
       " <span class=\"tMeterScore\">67%</span>\n",
       " </a>\n",
       " </td>\n",
       " <td class=\"middle_col\">\n",
       " <a href=\"/m/happy_death_day_2u\">Happy Death Day 2U</a>\n",
       " </td>\n",
       " <td class=\"right_col right\">\n",
       " <a href=\"/m/happy_death_day_2u\">$2.5M</a>\n",
       " </td>\n",
       " </tr>]"
      ]
     },
     "execution_count": 6,
     "metadata": {},
     "output_type": "execute_result"
    }
   ],
   "source": [
    "all_tr = table.find_all(\"tr\")\n",
    "all_tr"
   ]
  },
  {
   "cell_type": "code",
   "execution_count": 7,
   "metadata": {},
   "outputs": [],
   "source": [
    "all_td = all_tr[0].find_all(\"td\")"
   ]
  },
  {
   "cell_type": "code",
   "execution_count": 8,
   "metadata": {},
   "outputs": [
    {
     "data": {
      "text/plain": [
       "[<td class=\"left_col\">\n",
       " <a href=\"/m/how_to_train_your_dragon_the_hidden_world\">\n",
       " <span class=\"icon tiny certified_fresh\"></span>\n",
       " <span class=\"tMeterScore\">91%</span>\n",
       " </a>\n",
       " </td>, <td class=\"middle_col\">\n",
       " <a href=\"/m/how_to_train_your_dragon_the_hidden_world\">How to Train Your Dragon: The Hidden World</a>\n",
       " </td>, <td class=\"right_col right\">\n",
       " <a href=\"/m/how_to_train_your_dragon_the_hidden_world\">$30.1M</a>\n",
       " </td>]"
      ]
     },
     "execution_count": 8,
     "metadata": {},
     "output_type": "execute_result"
    }
   ],
   "source": [
    "all_td"
   ]
  },
  {
   "cell_type": "code",
   "execution_count": 32,
   "metadata": {},
   "outputs": [
    {
     "data": {
      "text/plain": [
       "91"
      ]
     },
     "execution_count": 32,
     "metadata": {},
     "output_type": "execute_result"
    }
   ],
   "source": [
    "int(all_td[0].find(\"span\", attrs={\"class\":\"tMeterScore\"}).text.replace(\"%\",\"\"))"
   ]
  },
  {
   "cell_type": "code",
   "execution_count": 33,
   "metadata": {},
   "outputs": [
    {
     "data": {
      "text/plain": [
       "'/m/how_to_train_your_dragon_the_hidden_world'"
      ]
     },
     "execution_count": 33,
     "metadata": {},
     "output_type": "execute_result"
    }
   ],
   "source": [
    "all_td[1].a[\"href\"] # all_td[1].find(\"a\")"
   ]
  },
  {
   "cell_type": "code",
   "execution_count": 34,
   "metadata": {},
   "outputs": [
    {
     "data": {
      "text/plain": [
       "'How to Train Your Dragon: The Hidden World'"
      ]
     },
     "execution_count": 34,
     "metadata": {},
     "output_type": "execute_result"
    }
   ],
   "source": [
    "all_td[1].a.text"
   ]
  },
  {
   "cell_type": "code",
   "execution_count": 11,
   "metadata": {},
   "outputs": [
    {
     "data": {
      "text/plain": [
       "'30.100000'"
      ]
     },
     "execution_count": 11,
     "metadata": {},
     "output_type": "execute_result"
    }
   ],
   "source": [
    "int(all_td[2].a.text.replace(\"$\",\"\").replace(\"M\",\"00000\"))"
   ]
  },
  {
   "cell_type": "code",
   "execution_count": 18,
   "metadata": {},
   "outputs": [
    {
     "name": "stdout",
     "output_type": "stream",
     "text": [
      "91\n",
      "https://www.rottentomatoes.com/m/how_to_train_your_dragon_the_hidden_world\n",
      "How to Train Your Dragon: The Hidden World\n",
      "3010000.0\n",
      "\n",
      "22\n",
      "https://www.rottentomatoes.com/m/tyler_perrys_a_madea_family_funeral\n",
      "Tyler Perry's A Madea Family Funeral\n",
      "2710000.0\n",
      "\n",
      "60\n",
      "https://www.rottentomatoes.com/m/alita_battle_angel\n",
      "Alita: Battle Angel\n",
      "700000.0\n",
      "\n",
      "86\n",
      "https://www.rottentomatoes.com/m/the_lego_movie_2_the_second_part\n",
      "The LEGO Movie 2: The Second Part\n",
      "670000.0\n",
      "\n",
      "92\n",
      "https://www.rottentomatoes.com/m/fighting_with_my_family\n",
      "Fighting with My Family\n",
      "500000.0\n",
      "\n",
      "68\n",
      "https://www.rottentomatoes.com/m/isnt_it_romantic_2019\n",
      "Isn't It Romantic\n",
      "480000.0\n",
      "\n",
      "79\n",
      "https://www.rottentomatoes.com/m/green_book\n",
      "Green Book\n",
      "480000.0\n",
      "\n",
      "58\n",
      "https://www.rottentomatoes.com/m/greta_2019\n",
      "Greta\n",
      "470000.0\n",
      "\n",
      "45\n",
      "https://www.rottentomatoes.com/m/what_men_want_2019\n",
      "What Men Want\n",
      "280000.0\n",
      "\n",
      "67\n",
      "https://www.rottentomatoes.com/m/happy_death_day_2u\n",
      "Happy Death Day 2U\n",
      "250000.0\n",
      "\n"
     ]
    }
   ],
   "source": [
    "for tr in all_tr:\n",
    "    all_td = tr.find_all(\"td\")\n",
    "    score = int(all_td[0].find(\"span\", attrs={\"class\":\"tMeterScore\"}).text.replace(\"%\",\"\"))\n",
    "    link = tomato_uri + all_td[1].a[\"href\"][1:]\n",
    "    title = all_td[1].a.text\n",
    "    revenue = float(all_td[2].a.text.replace(\"$\",\"\").replace(\"M\",\"\")) * 100000\n",
    "    print(score, link, title,revenue, sep = \"\\n\", end = \"\\n\\n\")"
   ]
  },
  {
   "cell_type": "markdown",
   "metadata": {},
   "source": [
    "## selenium"
   ]
  },
  {
   "cell_type": "code",
   "execution_count": 34,
   "metadata": {},
   "outputs": [],
   "source": [
    "from selenium import webdriver\n",
    "from selenium.webdriver.chrome.options import Options\n",
    "from selenium.webdriver.common.keys import Keys\n",
    "\n",
    "\n",
    "webdriver_path = \"C:\\Python37-32\\\\chromedriver.exe\"\n",
    "ch_driver = webdriver.Chrome(webdriver_path)"
   ]
  },
  {
   "cell_type": "code",
   "execution_count": 35,
   "metadata": {},
   "outputs": [],
   "source": [
    "ch_driver.close()"
   ]
  },
  {
   "cell_type": "code",
   "execution_count": 36,
   "metadata": {},
   "outputs": [],
   "source": [
    "ch_driver = webdriver.Chrome(webdriver_path)"
   ]
  },
  {
   "cell_type": "code",
   "execution_count": 37,
   "metadata": {},
   "outputs": [],
   "source": [
    "ch_driver.get(\"https://www.google.com/\")"
   ]
  },
  {
   "cell_type": "code",
   "execution_count": 38,
   "metadata": {},
   "outputs": [],
   "source": [
    "ch_driver.get(\"https://www.naver.com\")"
   ]
  },
  {
   "cell_type": "code",
   "execution_count": 55,
   "metadata": {},
   "outputs": [],
   "source": [
    "# PeaceNation List Scraping\n",
    "ch_driver.get(\"https://cafe.naver.com/joonggonara\")"
   ]
  },
  {
   "cell_type": "code",
   "execution_count": 58,
   "metadata": {},
   "outputs": [],
   "source": [
    "input_id = \"topLayerQueryInput\"\n",
    "input_area = ch_driver.find_element_by_id(input_id)\n"
   ]
  },
  {
   "cell_type": "code",
   "execution_count": 59,
   "metadata": {},
   "outputs": [],
   "source": [
    "query = \"아이패드\"\n",
    "input_area.send_keys(query)"
   ]
  },
  {
   "cell_type": "code",
   "execution_count": 54,
   "metadata": {},
   "outputs": [
    {
     "ename": "AttributeError",
     "evalue": "'str' object has no attribute 'send_keys'",
     "output_type": "error",
     "traceback": [
      "\u001b[1;31m---------------------------------------------------------------------------\u001b[0m",
      "\u001b[1;31mAttributeError\u001b[0m                            Traceback (most recent call last)",
      "\u001b[1;32m<ipython-input-54-97121345c1e7>\u001b[0m in \u001b[0;36m<module>\u001b[1;34m\u001b[0m\n\u001b[0;32m      1\u001b[0m \u001b[1;31m# method1 엔터키 넘겨서 화면전환\u001b[0m\u001b[1;33m\u001b[0m\u001b[1;33m\u001b[0m\u001b[1;33m\u001b[0m\u001b[0m\n\u001b[1;32m----> 2\u001b[1;33m \u001b[0minput_id\u001b[0m\u001b[1;33m.\u001b[0m\u001b[0msend_keys\u001b[0m\u001b[1;33m(\u001b[0m\u001b[0mKeys\u001b[0m\u001b[1;33m.\u001b[0m\u001b[0mRETURN\u001b[0m\u001b[1;33m)\u001b[0m\u001b[1;33m\u001b[0m\u001b[1;33m\u001b[0m\u001b[0m\n\u001b[0m",
      "\u001b[1;31mAttributeError\u001b[0m: 'str' object has no attribute 'send_keys'"
     ]
    }
   ],
   "source": [
    "# method1 엔터키 넘겨서 화면전환\n",
    "input_id.send_keys(Keys.RETURN)"
   ]
  },
  {
   "cell_type": "code",
   "execution_count": 51,
   "metadata": {},
   "outputs": [],
   "source": [
    "# method2 검색버튼 클릭하기\n",
    "search_button_xpath = '//*[@id=\"cafe-search\"]/form/button'\n",
    "ch_driver.find_element_by_xpath(search_button_xpath).click()"
   ]
  },
  {
   "cell_type": "code",
   "execution_count": 60,
   "metadata": {},
   "outputs": [],
   "source": [
    "# method3 자바스트립트 실행하기\n",
    "ch_driver.execute_script(\"searchBoard();\")"
   ]
  },
  {
   "cell_type": "code",
   "execution_count": 61,
   "metadata": {},
   "outputs": [
    {
     "ename": "NoSuchElementException",
     "evalue": "Message: no such element: Unable to locate element: {\"method\":\"class name\",\"selector\":\"result-board\"}\n  (Session info: chrome=72.0.3626.119)\n  (Driver info: chromedriver=73.0.3683.20 (8e2b610813e167eee3619ac4ce6e42e3ec622017),platform=Windows NT 10.0.17134 x86_64)\n",
     "output_type": "error",
     "traceback": [
      "\u001b[1;31m---------------------------------------------------------------------------\u001b[0m",
      "\u001b[1;31mNoSuchElementException\u001b[0m                    Traceback (most recent call last)",
      "\u001b[1;32m<ipython-input-61-d97a5a06c7ee>\u001b[0m in \u001b[0;36m<module>\u001b[1;34m\u001b[0m\n\u001b[1;32m----> 1\u001b[1;33m \u001b[0mch_driver\u001b[0m\u001b[1;33m.\u001b[0m\u001b[0mfind_element_by_class_name\u001b[0m\u001b[1;33m(\u001b[0m\u001b[1;34m\"result-board\"\u001b[0m\u001b[1;33m)\u001b[0m\u001b[1;33m\u001b[0m\u001b[1;33m\u001b[0m\u001b[0m\n\u001b[0m",
      "\u001b[1;32mc:\\python37-32\\lib\\site-packages\\selenium\\webdriver\\remote\\webdriver.py\u001b[0m in \u001b[0;36mfind_element_by_class_name\u001b[1;34m(self, name)\u001b[0m\n\u001b[0;32m    562\u001b[0m             \u001b[0melement\u001b[0m \u001b[1;33m=\u001b[0m \u001b[0mdriver\u001b[0m\u001b[1;33m.\u001b[0m\u001b[0mfind_element_by_class_name\u001b[0m\u001b[1;33m(\u001b[0m\u001b[1;34m'foo'\u001b[0m\u001b[1;33m)\u001b[0m\u001b[1;33m\u001b[0m\u001b[1;33m\u001b[0m\u001b[0m\n\u001b[0;32m    563\u001b[0m         \"\"\"\n\u001b[1;32m--> 564\u001b[1;33m         \u001b[1;32mreturn\u001b[0m \u001b[0mself\u001b[0m\u001b[1;33m.\u001b[0m\u001b[0mfind_element\u001b[0m\u001b[1;33m(\u001b[0m\u001b[0mby\u001b[0m\u001b[1;33m=\u001b[0m\u001b[0mBy\u001b[0m\u001b[1;33m.\u001b[0m\u001b[0mCLASS_NAME\u001b[0m\u001b[1;33m,\u001b[0m \u001b[0mvalue\u001b[0m\u001b[1;33m=\u001b[0m\u001b[0mname\u001b[0m\u001b[1;33m)\u001b[0m\u001b[1;33m\u001b[0m\u001b[1;33m\u001b[0m\u001b[0m\n\u001b[0m\u001b[0;32m    565\u001b[0m \u001b[1;33m\u001b[0m\u001b[0m\n\u001b[0;32m    566\u001b[0m     \u001b[1;32mdef\u001b[0m \u001b[0mfind_elements_by_class_name\u001b[0m\u001b[1;33m(\u001b[0m\u001b[0mself\u001b[0m\u001b[1;33m,\u001b[0m \u001b[0mname\u001b[0m\u001b[1;33m)\u001b[0m\u001b[1;33m:\u001b[0m\u001b[1;33m\u001b[0m\u001b[1;33m\u001b[0m\u001b[0m\n",
      "\u001b[1;32mc:\\python37-32\\lib\\site-packages\\selenium\\webdriver\\remote\\webdriver.py\u001b[0m in \u001b[0;36mfind_element\u001b[1;34m(self, by, value)\u001b[0m\n\u001b[0;32m    976\u001b[0m         return self.execute(Command.FIND_ELEMENT, {\n\u001b[0;32m    977\u001b[0m             \u001b[1;34m'using'\u001b[0m\u001b[1;33m:\u001b[0m \u001b[0mby\u001b[0m\u001b[1;33m,\u001b[0m\u001b[1;33m\u001b[0m\u001b[1;33m\u001b[0m\u001b[0m\n\u001b[1;32m--> 978\u001b[1;33m             'value': value})['value']\n\u001b[0m\u001b[0;32m    979\u001b[0m \u001b[1;33m\u001b[0m\u001b[0m\n\u001b[0;32m    980\u001b[0m     \u001b[1;32mdef\u001b[0m \u001b[0mfind_elements\u001b[0m\u001b[1;33m(\u001b[0m\u001b[0mself\u001b[0m\u001b[1;33m,\u001b[0m \u001b[0mby\u001b[0m\u001b[1;33m=\u001b[0m\u001b[0mBy\u001b[0m\u001b[1;33m.\u001b[0m\u001b[0mID\u001b[0m\u001b[1;33m,\u001b[0m \u001b[0mvalue\u001b[0m\u001b[1;33m=\u001b[0m\u001b[1;32mNone\u001b[0m\u001b[1;33m)\u001b[0m\u001b[1;33m:\u001b[0m\u001b[1;33m\u001b[0m\u001b[1;33m\u001b[0m\u001b[0m\n",
      "\u001b[1;32mc:\\python37-32\\lib\\site-packages\\selenium\\webdriver\\remote\\webdriver.py\u001b[0m in \u001b[0;36mexecute\u001b[1;34m(self, driver_command, params)\u001b[0m\n\u001b[0;32m    319\u001b[0m         \u001b[0mresponse\u001b[0m \u001b[1;33m=\u001b[0m \u001b[0mself\u001b[0m\u001b[1;33m.\u001b[0m\u001b[0mcommand_executor\u001b[0m\u001b[1;33m.\u001b[0m\u001b[0mexecute\u001b[0m\u001b[1;33m(\u001b[0m\u001b[0mdriver_command\u001b[0m\u001b[1;33m,\u001b[0m \u001b[0mparams\u001b[0m\u001b[1;33m)\u001b[0m\u001b[1;33m\u001b[0m\u001b[1;33m\u001b[0m\u001b[0m\n\u001b[0;32m    320\u001b[0m         \u001b[1;32mif\u001b[0m \u001b[0mresponse\u001b[0m\u001b[1;33m:\u001b[0m\u001b[1;33m\u001b[0m\u001b[1;33m\u001b[0m\u001b[0m\n\u001b[1;32m--> 321\u001b[1;33m             \u001b[0mself\u001b[0m\u001b[1;33m.\u001b[0m\u001b[0merror_handler\u001b[0m\u001b[1;33m.\u001b[0m\u001b[0mcheck_response\u001b[0m\u001b[1;33m(\u001b[0m\u001b[0mresponse\u001b[0m\u001b[1;33m)\u001b[0m\u001b[1;33m\u001b[0m\u001b[1;33m\u001b[0m\u001b[0m\n\u001b[0m\u001b[0;32m    322\u001b[0m             response['value'] = self._unwrap_value(\n\u001b[0;32m    323\u001b[0m                 response.get('value', None))\n",
      "\u001b[1;32mc:\\python37-32\\lib\\site-packages\\selenium\\webdriver\\remote\\errorhandler.py\u001b[0m in \u001b[0;36mcheck_response\u001b[1;34m(self, response)\u001b[0m\n\u001b[0;32m    240\u001b[0m                 \u001b[0malert_text\u001b[0m \u001b[1;33m=\u001b[0m \u001b[0mvalue\u001b[0m\u001b[1;33m[\u001b[0m\u001b[1;34m'alert'\u001b[0m\u001b[1;33m]\u001b[0m\u001b[1;33m.\u001b[0m\u001b[0mget\u001b[0m\u001b[1;33m(\u001b[0m\u001b[1;34m'text'\u001b[0m\u001b[1;33m)\u001b[0m\u001b[1;33m\u001b[0m\u001b[1;33m\u001b[0m\u001b[0m\n\u001b[0;32m    241\u001b[0m             \u001b[1;32mraise\u001b[0m \u001b[0mexception_class\u001b[0m\u001b[1;33m(\u001b[0m\u001b[0mmessage\u001b[0m\u001b[1;33m,\u001b[0m \u001b[0mscreen\u001b[0m\u001b[1;33m,\u001b[0m \u001b[0mstacktrace\u001b[0m\u001b[1;33m,\u001b[0m \u001b[0malert_text\u001b[0m\u001b[1;33m)\u001b[0m\u001b[1;33m\u001b[0m\u001b[1;33m\u001b[0m\u001b[0m\n\u001b[1;32m--> 242\u001b[1;33m         \u001b[1;32mraise\u001b[0m \u001b[0mexception_class\u001b[0m\u001b[1;33m(\u001b[0m\u001b[0mmessage\u001b[0m\u001b[1;33m,\u001b[0m \u001b[0mscreen\u001b[0m\u001b[1;33m,\u001b[0m \u001b[0mstacktrace\u001b[0m\u001b[1;33m)\u001b[0m\u001b[1;33m\u001b[0m\u001b[1;33m\u001b[0m\u001b[0m\n\u001b[0m\u001b[0;32m    243\u001b[0m \u001b[1;33m\u001b[0m\u001b[0m\n\u001b[0;32m    244\u001b[0m     \u001b[1;32mdef\u001b[0m \u001b[0m_value_or_default\u001b[0m\u001b[1;33m(\u001b[0m\u001b[0mself\u001b[0m\u001b[1;33m,\u001b[0m \u001b[0mobj\u001b[0m\u001b[1;33m,\u001b[0m \u001b[0mkey\u001b[0m\u001b[1;33m,\u001b[0m \u001b[0mdefault\u001b[0m\u001b[1;33m)\u001b[0m\u001b[1;33m:\u001b[0m\u001b[1;33m\u001b[0m\u001b[1;33m\u001b[0m\u001b[0m\n",
      "\u001b[1;31mNoSuchElementException\u001b[0m: Message: no such element: Unable to locate element: {\"method\":\"class name\",\"selector\":\"result-board\"}\n  (Session info: chrome=72.0.3626.119)\n  (Driver info: chromedriver=73.0.3683.20 (8e2b610813e167eee3619ac4ce6e42e3ec622017),platform=Windows NT 10.0.17134 x86_64)\n"
     ]
    }
   ],
   "source": [
    "ch_driver.find_element_by_class_name(\"result-board\")"
   ]
  },
  {
   "cell_type": "code",
   "execution_count": 64,
   "metadata": {},
   "outputs": [],
   "source": [
    "result_frame = ch_driver.find_element_by_id(\"cafe_main\")\n",
    "ch_driver.switch_to.frame(result_frame)"
   ]
  },
  {
   "cell_type": "code",
   "execution_count": 73,
   "metadata": {},
   "outputs": [],
   "source": [
    "result_div = ch_driver.find_element_by_xpath('//*[@id=\"main-area\"]/div[5]')"
   ]
  },
  {
   "cell_type": "code",
   "execution_count": 74,
   "metadata": {},
   "outputs": [],
   "source": [
    "result_tr = result_div.find_elements_by_tag_name(\"tr\")"
   ]
  },
  {
   "cell_type": "code",
   "execution_count": 75,
   "metadata": {},
   "outputs": [
    {
     "name": "stdout",
     "output_type": "stream",
     "text": [
      "566231615\n",
      "아이패드에어2 실버 64GB WIFI모델 IOS10.2.1 해외판카메라무음 배터리90%\n",
      "판매\n",
      "사진\n",
      "new\n",
      "포로릴23\n",
      "21:47 4\n",
      "포로릴23\n",
      "566228596\n",
      "아이패드프로 1세대 12.9 WiFi 32GB (골드) + 애플펜슬 ipad pro\n",
      "판매\n",
      "사진\n",
      "new\n",
      "루루룽피\n",
      "21:38 27\n",
      "루루룽피\n",
      "566228483\n",
      "아이패드 6세대 (애플펜슬포함, 펜슬거치대, 케이스2개포함) 로즈골드 32가 팝니다\n",
      "판매\n",
      "사진\n",
      "new\n",
      "중고처리중\n",
      "21:37 36\n",
      "중고처리중\n",
      "566227710\n",
      "노트북 맥북 컴퓨터 pc 아이패드 중고매입합니다!!\n",
      "사진\n",
      "new\n",
      "123ㄴㅁㄹㅇㄴㄿ\n",
      "21:35 2\n",
      "123ㄴㅁㄹㅇㄴㄿ\n",
      "566227648\n",
      "[구매] 아이패드 6세대 구합니다\n",
      "판매\n",
      "사진\n",
      "new\n",
      "우서웃어\n",
      "21:34 9\n",
      "우서웃어\n",
      "566227433\n",
      "아이패드 프로 10.5 256GB 그레이컬러 미개봉새상품 판매합니다!!\n",
      "판매\n",
      "사진\n",
      "new\n",
      "검세마리\n",
      "21:34 13\n",
      "검세마리\n",
      "566227330\n",
      "미개봉 애플 아이패드 프로용 12.9형 스마트 키보드 / MNKT2KH/A (A1636) 한글 키보드\n",
      "판매\n",
      "사진\n",
      "new\n",
      "케로로김중사\n",
      "21:33 5\n",
      "케로로김중사\n",
      "566227298\n",
      "아이패드 프로 10.5 256GB 그레이컬러 미개봉새상품 판매합니다!!\n",
      "판매\n",
      "사진\n",
      "new\n",
      "검세마리\n",
      "21:33 20\n",
      "검세마리\n",
      "566227244\n",
      "노트북 맥북 컴퓨터 pc 아이패드 중고매입합니다!~~~\n",
      "사진\n",
      "new\n",
      "123ㄴㅁㄹㅇㄴㄿ\n",
      "21:33 2\n",
      "123ㄴㅁㄹㅇㄴㄿ\n",
      "566226918\n",
      "아이패드 프로 1세대 12.9 32g wifi 골드 풀박+ 애플펜슬 팝니다.\n",
      "판매\n",
      "사진\n",
      "new\n",
      "아리아댜너걎다\n",
      "21:32 19\n",
      "아리아댜너걎다\n",
      "566226509\n",
      "아이패드 6세대 128g팝니다.\n",
      "판매\n",
      "사진\n",
      "new\n",
      "haskia\n",
      "21:31 38\n",
      "haskia\n",
      "566226374\n",
      "[부산]아이패드 프로 10.5인치 256g 스페이스 그레이 wifi+셀룰러 팝니다.\n",
      "판매\n",
      "사진\n",
      "new\n",
      "움냐냐냥\n",
      "21:30 13\n",
      "움냐냐냥\n",
      "566225652\n",
      "아이패드 프로 3세대 11인치 256GB 스페이스그레이 풀박스\n",
      "판매\n",
      "사진\n",
      "new\n",
      "꽃별\n",
      "21:28 65\n",
      "꽃별\n",
      "566225170\n",
      "대구 경산 아이패드 프로 3세대 12.9 실버 셀룰러 64기가 팝니다 케어플러스가입\n",
      "판매\n",
      "사진\n",
      "new\n",
      "AMG퍼포먼스\n",
      "21:26 38\n",
      "AMG퍼포먼스\n",
      "566225121\n",
      "미개봉 아이패드프로3세대 11인치 256기가 셀룰러 실버\n",
      "판매\n",
      "사진\n",
      "new\n",
      "폰갑\n",
      "21:26 17\n",
      "폰갑\n"
     ]
    }
   ],
   "source": [
    "for tr in result_tr:\n",
    "    print(tr.text)"
   ]
  },
  {
   "cell_type": "code",
   "execution_count": 81,
   "metadata": {},
   "outputs": [],
   "source": [
    "result_all_td = result_tr[0].find_element_by_class_name(\"article\").text"
   ]
  },
  {
   "cell_type": "code",
   "execution_count": 93,
   "metadata": {},
   "outputs": [
    {
     "name": "stdout",
     "output_type": "stream",
     "text": [
      "아이패드에어2 실버 64GB WIFI모델 IOS10.2.1 해외판카메라무음 배터리90%\n",
      "아이패드프로 1세대 12.9 WiFi 32GB (골드) + 애플펜슬 ipad pro\n",
      "아이패드 6세대 (애플펜슬포함, 펜슬거치대, 케이스2개포함) 로즈골드 32가 팝니다\n",
      "노트북 맥북 컴퓨터 pc 아이패드 중고매입합니다!!\n",
      "[구매] 아이패드 6세대 구합니다\n",
      "아이패드 프로 10.5 256GB 그레이컬러 미개봉새상품 판매합니다!!\n",
      "미개봉 애플 아이패드 프로용 12.9형 스마트 키보드 / MNKT2KH/A (A1636) 한글 키보드\n",
      "아이패드 프로 10.5 256GB 그레이컬러 미개봉새상품 판매합니다!!\n",
      "노트북 맥북 컴퓨터 pc 아이패드 중고매입합니다!~~~\n",
      "아이패드 프로 1세대 12.9 32g wifi 골드 풀박+ 애플펜슬 팝니다.\n",
      "아이패드 6세대 128g팝니다.\n",
      "[부산]아이패드 프로 10.5인치 256g 스페이스 그레이 wifi+셀룰러 팝니다.\n",
      "아이패드 프로 3세대 11인치 256GB 스페이스그레이 풀박스\n",
      "대구 경산 아이패드 프로 3세대 12.9 실버 셀룰러 64기가 팝니다 케어플러스가입\n",
      "미개봉 아이패드프로3세대 11인치 256기가 셀룰러 실버\n"
     ]
    },
    {
     "ename": "NoSuchElementException",
     "evalue": "Message: no such element: Unable to locate element: {\"method\":\"xpath\",\"selector\":\"//*[@id=\"main-area\"]/div[5]/table/tbody/tr[16]/td[1]/div[2]/div/a\"}\n  (Session info: chrome=72.0.3626.119)\n  (Driver info: chromedriver=73.0.3683.20 (8e2b610813e167eee3619ac4ce6e42e3ec622017),platform=Windows NT 10.0.17134 x86_64)\n",
     "output_type": "error",
     "traceback": [
      "\u001b[1;31m---------------------------------------------------------------------------\u001b[0m",
      "\u001b[1;31mNoSuchElementException\u001b[0m                    Traceback (most recent call last)",
      "\u001b[1;32m<ipython-input-93-0d92a45cb0a2>\u001b[0m in \u001b[0;36m<module>\u001b[1;34m\u001b[0m\n\u001b[0;32m      3\u001b[0m \u001b[1;32mfor\u001b[0m \u001b[0mtr\u001b[0m \u001b[1;32min\u001b[0m \u001b[0mresult_tr\u001b[0m\u001b[1;33m:\u001b[0m\u001b[1;33m\u001b[0m\u001b[1;33m\u001b[0m\u001b[0m\n\u001b[0;32m      4\u001b[0m     \u001b[0mtr_xpath\u001b[0m \u001b[1;33m=\u001b[0m \u001b[1;34m'//*[@id=\"main-area\"]/div[5]/table/tbody/tr[{}]/td[1]/div[2]/div/a'\u001b[0m\u001b[1;33m.\u001b[0m\u001b[0mformat\u001b[0m\u001b[1;33m(\u001b[0m\u001b[0mi\u001b[0m\u001b[1;33m)\u001b[0m\u001b[1;33m\u001b[0m\u001b[1;33m\u001b[0m\u001b[0m\n\u001b[1;32m----> 5\u001b[1;33m     \u001b[0mprint\u001b[0m\u001b[1;33m(\u001b[0m\u001b[0mtr\u001b[0m\u001b[1;33m.\u001b[0m\u001b[0mfind_element_by_xpath\u001b[0m\u001b[1;33m(\u001b[0m\u001b[0mtr_xpath\u001b[0m\u001b[1;33m)\u001b[0m\u001b[1;33m.\u001b[0m\u001b[0mtext\u001b[0m\u001b[1;33m)\u001b[0m\u001b[1;33m\u001b[0m\u001b[1;33m\u001b[0m\u001b[0m\n\u001b[0m\u001b[0;32m      6\u001b[0m     \u001b[0mi\u001b[0m \u001b[1;33m+=\u001b[0m \u001b[1;36m1\u001b[0m\u001b[1;33m\u001b[0m\u001b[1;33m\u001b[0m\u001b[0m\n",
      "\u001b[1;32mc:\\python37-32\\lib\\site-packages\\selenium\\webdriver\\remote\\webelement.py\u001b[0m in \u001b[0;36mfind_element_by_xpath\u001b[1;34m(self, xpath)\u001b[0m\n\u001b[0;32m    349\u001b[0m             \u001b[0melement\u001b[0m \u001b[1;33m=\u001b[0m \u001b[0melement\u001b[0m\u001b[1;33m.\u001b[0m\u001b[0mfind_element_by_xpath\u001b[0m\u001b[1;33m(\u001b[0m\u001b[1;34m'//div/td[1]'\u001b[0m\u001b[1;33m)\u001b[0m\u001b[1;33m\u001b[0m\u001b[1;33m\u001b[0m\u001b[0m\n\u001b[0;32m    350\u001b[0m         \"\"\"\n\u001b[1;32m--> 351\u001b[1;33m         \u001b[1;32mreturn\u001b[0m \u001b[0mself\u001b[0m\u001b[1;33m.\u001b[0m\u001b[0mfind_element\u001b[0m\u001b[1;33m(\u001b[0m\u001b[0mby\u001b[0m\u001b[1;33m=\u001b[0m\u001b[0mBy\u001b[0m\u001b[1;33m.\u001b[0m\u001b[0mXPATH\u001b[0m\u001b[1;33m,\u001b[0m \u001b[0mvalue\u001b[0m\u001b[1;33m=\u001b[0m\u001b[0mxpath\u001b[0m\u001b[1;33m)\u001b[0m\u001b[1;33m\u001b[0m\u001b[1;33m\u001b[0m\u001b[0m\n\u001b[0m\u001b[0;32m    352\u001b[0m \u001b[1;33m\u001b[0m\u001b[0m\n\u001b[0;32m    353\u001b[0m     \u001b[1;32mdef\u001b[0m \u001b[0mfind_elements_by_xpath\u001b[0m\u001b[1;33m(\u001b[0m\u001b[0mself\u001b[0m\u001b[1;33m,\u001b[0m \u001b[0mxpath\u001b[0m\u001b[1;33m)\u001b[0m\u001b[1;33m:\u001b[0m\u001b[1;33m\u001b[0m\u001b[1;33m\u001b[0m\u001b[0m\n",
      "\u001b[1;32mc:\\python37-32\\lib\\site-packages\\selenium\\webdriver\\remote\\webelement.py\u001b[0m in \u001b[0;36mfind_element\u001b[1;34m(self, by, value)\u001b[0m\n\u001b[0;32m    657\u001b[0m \u001b[1;33m\u001b[0m\u001b[0m\n\u001b[0;32m    658\u001b[0m         return self._execute(Command.FIND_CHILD_ELEMENT,\n\u001b[1;32m--> 659\u001b[1;33m                              {\"using\": by, \"value\": value})['value']\n\u001b[0m\u001b[0;32m    660\u001b[0m \u001b[1;33m\u001b[0m\u001b[0m\n\u001b[0;32m    661\u001b[0m     \u001b[1;32mdef\u001b[0m \u001b[0mfind_elements\u001b[0m\u001b[1;33m(\u001b[0m\u001b[0mself\u001b[0m\u001b[1;33m,\u001b[0m \u001b[0mby\u001b[0m\u001b[1;33m=\u001b[0m\u001b[0mBy\u001b[0m\u001b[1;33m.\u001b[0m\u001b[0mID\u001b[0m\u001b[1;33m,\u001b[0m \u001b[0mvalue\u001b[0m\u001b[1;33m=\u001b[0m\u001b[1;32mNone\u001b[0m\u001b[1;33m)\u001b[0m\u001b[1;33m:\u001b[0m\u001b[1;33m\u001b[0m\u001b[1;33m\u001b[0m\u001b[0m\n",
      "\u001b[1;32mc:\\python37-32\\lib\\site-packages\\selenium\\webdriver\\remote\\webelement.py\u001b[0m in \u001b[0;36m_execute\u001b[1;34m(self, command, params)\u001b[0m\n\u001b[0;32m    631\u001b[0m             \u001b[0mparams\u001b[0m \u001b[1;33m=\u001b[0m \u001b[1;33m{\u001b[0m\u001b[1;33m}\u001b[0m\u001b[1;33m\u001b[0m\u001b[1;33m\u001b[0m\u001b[0m\n\u001b[0;32m    632\u001b[0m         \u001b[0mparams\u001b[0m\u001b[1;33m[\u001b[0m\u001b[1;34m'id'\u001b[0m\u001b[1;33m]\u001b[0m \u001b[1;33m=\u001b[0m \u001b[0mself\u001b[0m\u001b[1;33m.\u001b[0m\u001b[0m_id\u001b[0m\u001b[1;33m\u001b[0m\u001b[1;33m\u001b[0m\u001b[0m\n\u001b[1;32m--> 633\u001b[1;33m         \u001b[1;32mreturn\u001b[0m \u001b[0mself\u001b[0m\u001b[1;33m.\u001b[0m\u001b[0m_parent\u001b[0m\u001b[1;33m.\u001b[0m\u001b[0mexecute\u001b[0m\u001b[1;33m(\u001b[0m\u001b[0mcommand\u001b[0m\u001b[1;33m,\u001b[0m \u001b[0mparams\u001b[0m\u001b[1;33m)\u001b[0m\u001b[1;33m\u001b[0m\u001b[1;33m\u001b[0m\u001b[0m\n\u001b[0m\u001b[0;32m    634\u001b[0m \u001b[1;33m\u001b[0m\u001b[0m\n\u001b[0;32m    635\u001b[0m     \u001b[1;32mdef\u001b[0m \u001b[0mfind_element\u001b[0m\u001b[1;33m(\u001b[0m\u001b[0mself\u001b[0m\u001b[1;33m,\u001b[0m \u001b[0mby\u001b[0m\u001b[1;33m=\u001b[0m\u001b[0mBy\u001b[0m\u001b[1;33m.\u001b[0m\u001b[0mID\u001b[0m\u001b[1;33m,\u001b[0m \u001b[0mvalue\u001b[0m\u001b[1;33m=\u001b[0m\u001b[1;32mNone\u001b[0m\u001b[1;33m)\u001b[0m\u001b[1;33m:\u001b[0m\u001b[1;33m\u001b[0m\u001b[1;33m\u001b[0m\u001b[0m\n",
      "\u001b[1;32mc:\\python37-32\\lib\\site-packages\\selenium\\webdriver\\remote\\webdriver.py\u001b[0m in \u001b[0;36mexecute\u001b[1;34m(self, driver_command, params)\u001b[0m\n\u001b[0;32m    319\u001b[0m         \u001b[0mresponse\u001b[0m \u001b[1;33m=\u001b[0m \u001b[0mself\u001b[0m\u001b[1;33m.\u001b[0m\u001b[0mcommand_executor\u001b[0m\u001b[1;33m.\u001b[0m\u001b[0mexecute\u001b[0m\u001b[1;33m(\u001b[0m\u001b[0mdriver_command\u001b[0m\u001b[1;33m,\u001b[0m \u001b[0mparams\u001b[0m\u001b[1;33m)\u001b[0m\u001b[1;33m\u001b[0m\u001b[1;33m\u001b[0m\u001b[0m\n\u001b[0;32m    320\u001b[0m         \u001b[1;32mif\u001b[0m \u001b[0mresponse\u001b[0m\u001b[1;33m:\u001b[0m\u001b[1;33m\u001b[0m\u001b[1;33m\u001b[0m\u001b[0m\n\u001b[1;32m--> 321\u001b[1;33m             \u001b[0mself\u001b[0m\u001b[1;33m.\u001b[0m\u001b[0merror_handler\u001b[0m\u001b[1;33m.\u001b[0m\u001b[0mcheck_response\u001b[0m\u001b[1;33m(\u001b[0m\u001b[0mresponse\u001b[0m\u001b[1;33m)\u001b[0m\u001b[1;33m\u001b[0m\u001b[1;33m\u001b[0m\u001b[0m\n\u001b[0m\u001b[0;32m    322\u001b[0m             response['value'] = self._unwrap_value(\n\u001b[0;32m    323\u001b[0m                 response.get('value', None))\n",
      "\u001b[1;32mc:\\python37-32\\lib\\site-packages\\selenium\\webdriver\\remote\\errorhandler.py\u001b[0m in \u001b[0;36mcheck_response\u001b[1;34m(self, response)\u001b[0m\n\u001b[0;32m    240\u001b[0m                 \u001b[0malert_text\u001b[0m \u001b[1;33m=\u001b[0m \u001b[0mvalue\u001b[0m\u001b[1;33m[\u001b[0m\u001b[1;34m'alert'\u001b[0m\u001b[1;33m]\u001b[0m\u001b[1;33m.\u001b[0m\u001b[0mget\u001b[0m\u001b[1;33m(\u001b[0m\u001b[1;34m'text'\u001b[0m\u001b[1;33m)\u001b[0m\u001b[1;33m\u001b[0m\u001b[1;33m\u001b[0m\u001b[0m\n\u001b[0;32m    241\u001b[0m             \u001b[1;32mraise\u001b[0m \u001b[0mexception_class\u001b[0m\u001b[1;33m(\u001b[0m\u001b[0mmessage\u001b[0m\u001b[1;33m,\u001b[0m \u001b[0mscreen\u001b[0m\u001b[1;33m,\u001b[0m \u001b[0mstacktrace\u001b[0m\u001b[1;33m,\u001b[0m \u001b[0malert_text\u001b[0m\u001b[1;33m)\u001b[0m\u001b[1;33m\u001b[0m\u001b[1;33m\u001b[0m\u001b[0m\n\u001b[1;32m--> 242\u001b[1;33m         \u001b[1;32mraise\u001b[0m \u001b[0mexception_class\u001b[0m\u001b[1;33m(\u001b[0m\u001b[0mmessage\u001b[0m\u001b[1;33m,\u001b[0m \u001b[0mscreen\u001b[0m\u001b[1;33m,\u001b[0m \u001b[0mstacktrace\u001b[0m\u001b[1;33m)\u001b[0m\u001b[1;33m\u001b[0m\u001b[1;33m\u001b[0m\u001b[0m\n\u001b[0m\u001b[0;32m    243\u001b[0m \u001b[1;33m\u001b[0m\u001b[0m\n\u001b[0;32m    244\u001b[0m     \u001b[1;32mdef\u001b[0m \u001b[0m_value_or_default\u001b[0m\u001b[1;33m(\u001b[0m\u001b[0mself\u001b[0m\u001b[1;33m,\u001b[0m \u001b[0mobj\u001b[0m\u001b[1;33m,\u001b[0m \u001b[0mkey\u001b[0m\u001b[1;33m,\u001b[0m \u001b[0mdefault\u001b[0m\u001b[1;33m)\u001b[0m\u001b[1;33m:\u001b[0m\u001b[1;33m\u001b[0m\u001b[1;33m\u001b[0m\u001b[0m\n",
      "\u001b[1;31mNoSuchElementException\u001b[0m: Message: no such element: Unable to locate element: {\"method\":\"xpath\",\"selector\":\"//*[@id=\"main-area\"]/div[5]/table/tbody/tr[16]/td[1]/div[2]/div/a\"}\n  (Session info: chrome=72.0.3626.119)\n  (Driver info: chromedriver=73.0.3683.20 (8e2b610813e167eee3619ac4ce6e42e3ec622017),platform=Windows NT 10.0.17134 x86_64)\n"
     ]
    }
   ],
   "source": [
    "\n",
    "i =  1\n",
    "for tr in result_tr:\n",
    "    tr_xpath = '//*[@id=\"main-area\"]/div[5]/table/tbody/tr[{}]/td[1]/div[2]/div/a'.format(i)\n",
    "    print(tr.find_element_by_xpath(tr_xpath).text)\n",
    "    i += 1"
   ]
  },
  {
   "cell_type": "code",
   "execution_count": null,
   "metadata": {},
   "outputs": [],
   "source": []
  }
 ],
 "metadata": {
  "kernelspec": {
   "display_name": "Python 3",
   "language": "python",
   "name": "python3"
  },
  "language_info": {
   "codemirror_mode": {
    "name": "ipython",
    "version": 3
   },
   "file_extension": ".py",
   "mimetype": "text/x-python",
   "name": "python",
   "nbconvert_exporter": "python",
   "pygments_lexer": "ipython3",
   "version": "3.7.2"
  }
 },
 "nbformat": 4,
 "nbformat_minor": 2
}
