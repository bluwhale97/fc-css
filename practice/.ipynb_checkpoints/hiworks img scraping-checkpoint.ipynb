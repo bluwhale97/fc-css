{
 "cells": [
  {
   "cell_type": "code",
   "execution_count": 191,
   "metadata": {},
   "outputs": [
    {
     "data": {
      "text/plain": [
       "'\\nch_driver = webdriver.Chrome(webdriver_path)\\nch_driver.get(hiwork_uri)\\n'"
      ]
     },
     "execution_count": 191,
     "metadata": {},
     "output_type": "execute_result"
    }
   ],
   "source": [
    "# from selenium import webdriver\n",
    "# from selenium.webdriver.common.keys import Keys\n",
    "from bs4 import BeautifulSoup\n",
    "# from PIL import ImageGrab\n",
    "import requests\n",
    "import lxml\n",
    "import urllib.request\n",
    "\n",
    "webdriver_path = \"c://Python37-32//chromedriver.exe\"\n",
    "hiwork_uri = \"https://www.hiworks.com/hiworks_beta/write-approve\"\n",
    "hiwork_base = \"https://www.hiworks.com\"\n",
    "'''\n",
    "ch_driver = webdriver.Chrome(webdriver_path)\n",
    "ch_driver.get(hiwork_uri)\n",
    "'''"
   ]
  },
  {
   "cell_type": "code",
   "execution_count": 192,
   "metadata": {},
   "outputs": [
    {
     "data": {
      "text/plain": [
       "<Response [200]>"
      ]
     },
     "execution_count": 192,
     "metadata": {},
     "output_type": "execute_result"
    }
   ],
   "source": [
    "response = requests.get(hiwork_uri)\n",
    "response"
   ]
  },
  {
   "cell_type": "code",
   "execution_count": 193,
   "metadata": {},
   "outputs": [],
   "source": [
    "html = response.text"
   ]
  },
  {
   "cell_type": "code",
   "execution_count": 194,
   "metadata": {},
   "outputs": [],
   "source": [
    "soup = BeautifulSoup(html,'lxml')"
   ]
  },
  {
   "cell_type": "code",
   "execution_count": 195,
   "metadata": {},
   "outputs": [],
   "source": [
    "all_ul = soup.find('ul',attrs={'class':'sub-menu'})"
   ]
  },
  {
   "cell_type": "code",
   "execution_count": 196,
   "metadata": {},
   "outputs": [],
   "source": [
    "all_a = all_ul.find_all('a')"
   ]
  },
  {
   "cell_type": "code",
   "execution_count": 197,
   "metadata": {},
   "outputs": [],
   "source": [
    "all_href = list()\n",
    "for a in all_a:\n",
    "    all_href.append(hiwork_uri[:37] + a[\"href\"][14:])"
   ]
  },
  {
   "cell_type": "code",
   "execution_count": 198,
   "metadata": {},
   "outputs": [
    {
     "data": {
      "text/plain": [
       "['https://www.hiworks.com/hiworks_beta/write-approve',\n",
       " 'https://www.hiworks.com/hiworks_beta/list-approve',\n",
       " 'https://www.hiworks.com/hiworks_beta/docu-approve',\n",
       " 'https://www.hiworks.com/hiworks_beta/view-approve',\n",
       " 'https://www.hiworks.com/hiworks_beta/view-approve',\n",
       " 'https://www.hiworks.com/hiworks_beta/view-approve/progress',\n",
       " 'https://www.hiworks.com/hiworks_beta/format-approve',\n",
       " 'https://www.hiworks.com/hiworks_beta/format-approve',\n",
       " 'https://www.hiworks.com/hiworks_beta/format-approve/finance',\n",
       " 'https://www.hiworks.com/hiworks_beta/format-approve/send',\n",
       " 'https://www.hiworks.com/hiworks_beta/format-approve/apply',\n",
       " 'https://www.hiworks.com/hiworks_beta/format-approve/reply',\n",
       " 'https://www.hiworks.com/hiworks_beta/print-approve',\n",
       " 'https://www.hiworks.com/hiworks_beta/new-approve',\n",
       " 'https://www.hiworks.com/hiworks_beta/new-approve',\n",
       " 'https://www.hiworks.com/hiworks_beta/new-approve/last',\n",
       " 'https://www.hiworks.com/hiworks_beta/new-approve/behalf',\n",
       " 'https://www.hiworks.com/hiworks_beta/new-approve/after',\n",
       " 'https://www.hiworks.com/hiworks_beta/default-approve',\n",
       " 'https://www.hiworks.com/hiworks_beta/default-approve',\n",
       " 'https://www.hiworks.com/hiworks_beta/default-approve/create',\n",
       " 'https://www.hiworks.com/hiworks_beta/default-approve/public',\n",
       " 'https://www.hiworks.com/hiworks_beta/admin-approve']"
      ]
     },
     "execution_count": 198,
     "metadata": {},
     "output_type": "execute_result"
    }
   ],
   "source": [
    "all_href"
   ]
  },
  {
   "cell_type": "code",
   "execution_count": 205,
   "metadata": {},
   "outputs": [],
   "source": [
    "for i in range(len(all_href)):\n",
    "    img_html = BeautifulSoup(requests.get(all_href[i]).text,'lxml')\n",
    "    img_div = img_html.find('div',attrs={'class':'beta-body'})\n",
    "    img = img_div.find('img')\n",
    "    img_src = img.get('src')\n",
    "    img_url = hiwork_base + img_src\n",
    "    urllib.request.urlretrieve(img_url, '{}.png'.format(i))"
   ]
  },
  {
   "cell_type": "code",
   "execution_count": null,
   "metadata": {},
   "outputs": [],
   "source": []
  },
  {
   "cell_type": "code",
   "execution_count": null,
   "metadata": {},
   "outputs": [],
   "source": []
  },
  {
   "cell_type": "code",
   "execution_count": null,
   "metadata": {},
   "outputs": [],
   "source": []
  }
 ],
 "metadata": {
  "kernelspec": {
   "display_name": "Python 3",
   "language": "python",
   "name": "python3"
  },
  "language_info": {
   "codemirror_mode": {
    "name": "ipython",
    "version": 3
   },
   "file_extension": ".py",
   "mimetype": "text/x-python",
   "name": "python",
   "nbconvert_exporter": "python",
   "pygments_lexer": "ipython3",
   "version": "3.7.2"
  }
 },
 "nbformat": 4,
 "nbformat_minor": 2
}
