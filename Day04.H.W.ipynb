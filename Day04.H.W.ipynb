{
 "cells": [
  {
   "cell_type": "markdown",
   "metadata": {},
   "source": [
    "# is_leap Advanced"
   ]
  },
  {
   "cell_type": "code",
   "execution_count": 3,
   "metadata": {},
   "outputs": [
    {
     "name": "stdout",
     "output_type": "stream",
     "text": [
      "윤년인지 판단할 년도를 입력해 주세요. 종료하려면 '0'을 입력하여 주세요: 300\n",
      "300년은 평년입니다.\n",
      "\n",
      "윤년인지 판단할 년도를 입력해 주세요. 종료하려면 '0'을 입력하여 주세요: 0\n",
      "윤년판독기를 종료합니다.\n",
      "\n"
     ]
    },
    {
     "data": {
      "text/plain": [
       "True"
      ]
     },
     "execution_count": 3,
     "metadata": {},
     "output_type": "execute_result"
    }
   ],
   "source": [
    "# 함수 정의\n",
    "# False == \"평년\", True == \"윤년\"\n",
    "def leap_year(year):\n",
    "    if year % 400 == 0 or year % 4 == 0 and not year % 100 == 0:\n",
    "        return True \n",
    "    else:\n",
    "        return False\n",
    "    \n",
    "def print_isleap(isleap, year):\n",
    "    if isleap == True:\n",
    "        print(\"{}년은 윤년입니다.\\n\".format(year))\n",
    "    else:\n",
    "        print(\"{}년은 평년입니다.\\n\".format(year))\n",
    "    return True\n",
    "\n",
    "def loop_is_leap_qusetion():\n",
    "    while(True):\n",
    "        year = int(input(\"윤년인지 판단할 년도를 입력해 주세요. 종료하려면 '0'을 입력하여 주세요: \"))\n",
    "        if year < 0:\n",
    "            print(\"잘못된 연도를 입력하셨습니다.\\n\")\n",
    "            continue\n",
    "        elif year == 0:\n",
    "            print(\"윤년판독기를 종료합니다.\\n\")\n",
    "            return True\n",
    "        else:\n",
    "            isleap = leap_year(year)\n",
    "            print_isleap(isleap, year)\n",
    "# 실행 함수\n",
    "loop_is_leap_qusetion()"
   ]
  },
  {
   "cell_type": "markdown",
   "metadata": {},
   "source": [
    "# Fibonacci_fuction"
   ]
  },
  {
   "cell_type": "code",
   "execution_count": 35,
   "metadata": {},
   "outputs": [
    {
     "data": {
      "text/plain": [
       "55"
      ]
     },
     "execution_count": 35,
     "metadata": {},
     "output_type": "execute_result"
    }
   ],
   "source": [
    "#fibonacci with recursive\n",
    "def fibonacci_recur(num_):\n",
    "    if num_ < 1:\n",
    "        return False\n",
    "    elif num_==1 or num_ ==2:\n",
    "        return 1\n",
    "    else:\n",
    "        return fibonacci_recur(num_-2) + fibonacci_recur(num_-1)\n",
    "fibonacci_recur(10)"
   ]
  },
  {
   "cell_type": "code",
   "execution_count": 45,
   "metadata": {},
   "outputs": [
    {
     "name": "stdout",
     "output_type": "stream",
     "text": [
      "55\n"
     ]
    }
   ],
   "source": [
    "#fibonacci with binet\n",
    "import math\n",
    "\n",
    "def fibonacci_loop(num_):\n",
    "    if num_ < 1:\n",
    "        return false\n",
    "    sqrt5 = math.sqrt(5)\n",
    "    \n",
    "    sum_of_fibo = (1 / sqrt5) * ((((1 + sqrt5) / 2) ** num_) - (((1 - sqrt5) / 2) ** num_))\n",
    "    print(int(sum_of_fibo))\n",
    "fibonacci_loop(10)"
   ]
  },
  {
   "cell_type": "code",
   "execution_count": null,
   "metadata": {},
   "outputs": [],
   "source": []
  }
 ],
 "metadata": {
  "kernelspec": {
   "display_name": "Python 3",
   "language": "python",
   "name": "python3"
  },
  "language_info": {
   "codemirror_mode": {
    "name": "ipython",
    "version": 3
   },
   "file_extension": ".py",
   "mimetype": "text/x-python",
   "name": "python",
   "nbconvert_exporter": "python",
   "pygments_lexer": "ipython3",
   "version": "3.7.2"
  }
 },
 "nbformat": 4,
 "nbformat_minor": 2
}
