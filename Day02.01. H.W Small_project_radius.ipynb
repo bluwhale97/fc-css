{
 "cells": [
  {
   "cell_type": "code",
   "execution_count": 14,
   "metadata": {},
   "outputs": [
    {
     "name": "stdout",
     "output_type": "stream",
     "text": [
      "확인하고자 하는 원의 반지름을 입력하십시오: 5\n"
     ]
    }
   ],
   "source": [
    "radius = int(input(\"확인하고자 하는 원의 반지름을 입력하십시오: \"))\n",
    "pi = 3.1415"
   ]
  },
  {
   "cell_type": "code",
   "execution_count": 15,
   "metadata": {},
   "outputs": [
    {
     "name": "stdout",
     "output_type": "stream",
     "text": [
      "원의 지름:  10\n",
      "원의 둘레:  31.415000000000003\n",
      "원의 넓이:  78.53750000000001\n",
      "구의 겉넓이:  314.15000000000003\n",
      "구의 부피:  392.6875\n"
     ]
    }
   ],
   "source": [
    "print(\"원의 지름: \", 2 * radius)\n",
    "print(\"원의 둘레: \", 2 * radius * pi)\n",
    "print(\"원의 넓이: \", (radius ** 2) * pi)\n",
    "print(\"구의 겉넓이: \", 4 * (radius**2) * pi)\n",
    "print(\"구의 부피: \", (4 // 3) * (radius**3) * pi)"
   ]
  },
  {
   "cell_type": "code",
   "execution_count": null,
   "metadata": {},
   "outputs": [],
   "source": []
  }
 ],
 "metadata": {
  "kernelspec": {
   "display_name": "Python 3",
   "language": "python",
   "name": "python3"
  },
  "language_info": {
   "codemirror_mode": {
    "name": "ipython",
    "version": 3
   },
   "file_extension": ".py",
   "mimetype": "text/x-python",
   "name": "python",
   "nbconvert_exporter": "python",
   "pygments_lexer": "ipython3",
   "version": "3.7.2"
  }
 },
 "nbformat": 4,
 "nbformat_minor": 2
}
