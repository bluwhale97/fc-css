{
 "cells": [
  {
   "cell_type": "markdown",
   "metadata": {},
   "source": [
    "# Q1. 다음에 대해 적절한 자료형 반환"
   ]
  },
  {
   "cell_type": "code",
   "execution_count": 6,
   "metadata": {},
   "outputs": [],
   "source": [
    "q1_1 = \"123\"\n",
    "q1_2 = \"3.0\"\n",
    "q1_3 = \"True\"\n",
    "q1_4 = \"[1, 2, 3]\""
   ]
  },
  {
   "cell_type": "code",
   "execution_count": 8,
   "metadata": {},
   "outputs": [],
   "source": [
    "q1_1 = int(q1_1)\n",
    "q1_2 = float(q1_2)\n",
    "q1_3 = bool(q1_3)\n",
    "q1_4 = list(q1_4)"
   ]
  },
  {
   "cell_type": "code",
   "execution_count": 9,
   "metadata": {},
   "outputs": [
    {
     "name": "stdout",
     "output_type": "stream",
     "text": [
      "123\n",
      "3.0\n",
      "True\n",
      "['[', '1', ',', ' ', '2', ',', ' ', '3', ']']\n"
     ]
    }
   ],
   "source": [
    "print(q1_1)\n",
    "print(q1_2)\n",
    "print(q1_3)\n",
    "print(q1_4)"
   ]
  },
  {
   "cell_type": "code",
   "execution_count": null,
   "metadata": {},
   "outputs": [],
   "source": []
  }
 ],
 "metadata": {
  "kernelspec": {
   "display_name": "Python 3",
   "language": "python",
   "name": "python3"
  },
  "language_info": {
   "codemirror_mode": {
    "name": "ipython",
    "version": 3
   },
   "file_extension": ".py",
   "mimetype": "text/x-python",
   "name": "python",
   "nbconvert_exporter": "python",
   "pygments_lexer": "ipython3",
   "version": "3.7.2"
  }
 },
 "nbformat": 4,
 "nbformat_minor": 2
}
