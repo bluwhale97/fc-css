{
 "cells": [
  {
   "cell_type": "code",
   "execution_count": null,
   "metadata": {},
   "outputs": [],
   "source": [
    "# 조건문 (conditional Statements)\n",
    "cash = 10000"
   ]
  },
  {
   "cell_type": "code",
   "execution_count": null,
   "metadata": {},
   "outputs": [],
   "source": [
    "if cash > 100000:\n",
    "    print(\"Go to restaurant\")\n",
    "else:\n",
    "    if cash > 50000:\n",
    "        print(\"Go to Hell of Gimbab\")\n",
    "    else:\n",
    "        if cash > 30000:\n",
    "            print(\"Go to Somewhere 1\")\n",
    "        else:\n",
    "            if cash > 10000:\n",
    "                print(\"Go to Somewhere 2\")\n",
    "            else:\n",
    "                print(\"Go to CVS\")"
   ]
  },
  {
   "cell_type": "code",
   "execution_count": null,
   "metadata": {},
   "outputs": [],
   "source": [
    "if cash > 100000:\n",
    "    print(\"Go to restaurant\")\n",
    "elif cash > 50000:\n",
    "    print(\"Go to Hell of Gimbab\")\n",
    "elif cash > 30000:\n",
    "    print(\"Go to Somewhere 1\")\n",
    "elif cash > 10000:\n",
    "    print(\"Go to Somewhere 2\")\n",
    "else:\n",
    "    print(\"Go to CVS\")"
   ]
  },
  {
   "cell_type": "code",
   "execution_count": null,
   "metadata": {},
   "outputs": [],
   "source": [
    "# Numguess Game\n",
    "import random\n",
    "\n",
    "answer = random.randint(1,100)\n",
    "print(answer)\n",
    "\n",
    "# TODO: 사용자로부터 정수 하나를 입력 받아 guess 라는 변수에 할당한 뒤,\n",
    "# 사용자 입력값과 정답을 비교해서\n",
    "# 맞다면, \"맞았습니다.\"\n",
    "# 틀렸다면, \"틀렸습니다.\""
   ]
  },
  {
   "cell_type": "code",
   "execution_count": null,
   "metadata": {},
   "outputs": [],
   "source": [
    "guess = int(input(\"게임을 시작합니다. 1~100 까지 숫자 중에서 하나 골라주세요.: \"))\n",
    "if answer == guess:\n",
    "    print(\"맞았습니다.\")\n",
    "else:\n",
    "    print(\"틀렸습니다.\")\n",
    "print(\"정답은 \" + str(answer) + \" 입니다.\")\n",
    "\n",
    "# 보상, 힌트, 여러개중 몇개, trial..."
   ]
  },
  {
   "cell_type": "code",
   "execution_count": null,
   "metadata": {},
   "outputs": [],
   "source": [
    "# Iteration, Loop\n",
    "# For\n",
    "\n",
    "for item in range(1,10):\n",
    "    print(item)"
   ]
  },
  {
   "cell_type": "code",
   "execution_count": null,
   "metadata": {},
   "outputs": [],
   "source": [
    "for s in [\"dog\", \"cat\", \"giraffe\"]:\n",
    "    print(\"Oh, there is a {}.\".format(s))"
   ]
  },
  {
   "cell_type": "code",
   "execution_count": null,
   "metadata": {},
   "outputs": [],
   "source": [
    "result = 0\n",
    "for i in range(1, 100 + 1):\n",
    "    result += i\n",
    "print(result)"
   ]
  },
  {
   "cell_type": "code",
   "execution_count": null,
   "metadata": {},
   "outputs": [],
   "source": [
    "# 무한 반복\n",
    "while True:\n",
    "    print(\"hello\")\n",
    "    break\n"
   ]
  },
  {
   "cell_type": "code",
   "execution_count": null,
   "metadata": {
    "scrolled": true
   },
   "outputs": [],
   "source": [
    "name = \"\"\n",
    "while name != \"foo bar\":\n",
    "    name = input(\"What is your name? \")\n",
    "    print(\"Oh, your name is {}\".format(name))"
   ]
  },
  {
   "cell_type": "code",
   "execution_count": null,
   "metadata": {
    "scrolled": true
   },
   "outputs": [],
   "source": [
    "for i in range(1, 100 + 1):\n",
    "    if i % 3 == 0:\n",
    "        if i % 5 == 0:\n",
    "            print(\"FizzBuzz\")\n",
    "        else:\n",
    "            print(\"Fizz\")\n",
    "    elif i % 5 == 0:\n",
    "        print(\"Buzz\")\n",
    "    else:\n",
    "        print(i)"
   ]
  },
  {
   "cell_type": "code",
   "execution_count": 4,
   "metadata": {},
   "outputs": [
    {
     "name": "stdout",
     "output_type": "stream",
     "text": [
      "5\n",
      "정수를 입력해 주세요.(1~100) 1\n",
      "up!!\n",
      "틀렸습니다. 4\n",
      "정수를 입력해 주세요.(1~100) 5\n",
      "맞았습니다. 점수는 15 입니다. \n",
      "정수를 입력해 주세요.(1~100) 1\n",
      "up!!\n",
      "틀렸습니다. 2\n",
      "정수를 입력해 주세요.(1~100) 1\n",
      "up!!\n",
      "틀렸습니다. 1\n",
      "정수를 입력해 주세요.(1~100) 1\n",
      "up!!\n",
      "못 맞췄습니다! 이제 기회가 없네요..ㅎㅎㅎ\n"
     ]
    }
   ],
   "source": [
    "import random\n",
    "\n",
    "\n",
    "answer = random.randint(1,100)\n",
    "print(answer)\n",
    "\n",
    "# 횟수 5회 추가\n",
    "for chance in range(1,5+1):\n",
    "    # TODO: 사용자로부터 정수 하나를 입력받아 guess 라는 변수에 할당한 뒤,\n",
    "    guess = int(input(\"정수를 입력해 주세요.(1~100) \"))\n",
    "\n",
    "    # 사용자 입력값과 정답을 비교해서\n",
    "    # 맞다면, \"맞았습니다.\"\n",
    "    if guess == answer:\n",
    "        print(\"맞았습니다. 점수는 {} 입니다. \".format((5-chance)*5))\n",
    "    # 틀렸다면, \"틀렸습니다.\"\n",
    "    else:\n",
    "        if answer < guess:\n",
    "            print(\"down!!\")\n",
    "        else:\n",
    "            print(\"up!!\")\n",
    "        if chance == 5:\n",
    "            print(\"못 맞췄습니다! 이제 기회가 없네요..ㅎㅎㅎ\")\n",
    "        else:\n",
    "            print(\"틀렸습니다. {}\".format(5-chance))\n",
    "            \n",
    "        \n",
    "        \n",
    "        \n",
    "# 보상, 힌트 ,맞추면 미로... , 여러개중 몇개.. , trial, .."
   ]
  },
  {
   "cell_type": "code",
   "execution_count": null,
   "metadata": {},
   "outputs": [],
   "source": [
    "# Monty Hall Problem\n",
    "\n"
   ]
  },
  {
   "cell_type": "code",
   "execution_count": null,
   "metadata": {},
   "outputs": [],
   "source": [
    "def summer(num):\n",
    "    return num + 1"
   ]
  },
  {
   "cell_type": "code",
   "execution_count": 5,
   "metadata": {},
   "outputs": [
    {
     "data": {
      "text/plain": [
       "'hello'"
      ]
     },
     "execution_count": 5,
     "metadata": {},
     "output_type": "execute_result"
    }
   ],
   "source": [
    "# function without input\n",
    "def func_wo_input():\n",
    "    return \"hello\"\n",
    "func_wo_input()"
   ]
  },
  {
   "cell_type": "code",
   "execution_count": 6,
   "metadata": {},
   "outputs": [
    {
     "name": "stdout",
     "output_type": "stream",
     "text": [
      "11\n"
     ]
    }
   ],
   "source": [
    "# function without output\n",
    "def func_wo_output(num):\n",
    "    print(num+1)\n",
    "func_wo_output(10)"
   ]
  },
  {
   "cell_type": "code",
   "execution_count": 7,
   "metadata": {},
   "outputs": [],
   "source": [
    "# fuction without io"
   ]
  },
  {
   "cell_type": "code",
   "execution_count": 9,
   "metadata": {},
   "outputs": [
    {
     "name": "stdout",
     "output_type": "stream",
     "text": [
      "1\t2\t3\n"
     ]
    }
   ],
   "source": [
    "print(1,2,3,sep='\\t')"
   ]
  },
  {
   "cell_type": "code",
   "execution_count": 10,
   "metadata": {},
   "outputs": [],
   "source": [
    "def id_check(idtrial):\n",
    "    if id_trial == \"admin\":\n",
    "        print(\"You can not use this id: admin \")\n",
    "        return False\n",
    "    print(\"valid username: {}\".format(id_trial))\n",
    "    return True"
   ]
  },
  {
   "cell_type": "code",
   "execution_count": 14,
   "metadata": {},
   "outputs": [],
   "source": [
    "def say_hello(name=\"Fool\", nick=True):\n",
    "    print(\"Hi, {}\".format(name))\n",
    "    if nick == True:\n",
    "        print(\"But, you are fool.\")\n",
    "    else:\n",
    "        print(\"Oh, you are not fool.\")"
   ]
  },
  {
   "cell_type": "code",
   "execution_count": 15,
   "metadata": {},
   "outputs": [
    {
     "name": "stdout",
     "output_type": "stream",
     "text": [
      "Hi, ddd\n",
      "Oh, you are not fool.\n"
     ]
    }
   ],
   "source": [
    "say_hello(\"ddd\",False)"
   ]
  },
  {
   "cell_type": "code",
   "execution_count": 18,
   "metadata": {},
   "outputs": [
    {
     "name": "stdout",
     "output_type": "stream",
     "text": [
      "true\n"
     ]
    }
   ],
   "source": [
    "if (1==1) & (1==1):\n",
    "    print(\"true\")\n",
    "else:\n",
    "    print(\"false\")"
   ]
  },
  {
   "cell_type": "code",
   "execution_count": 19,
   "metadata": {},
   "outputs": [
    {
     "name": "stdout",
     "output_type": "stream",
     "text": [
      "true\n"
     ]
    }
   ],
   "source": [
    "if (1==1) and (1==1):\n",
    "    print(\"true\")\n",
    "else:\n",
    "    print(\"false\")"
   ]
  },
  {
   "cell_type": "code",
   "execution_count": null,
   "metadata": {},
   "outputs": [],
   "source": []
  }
 ],
 "metadata": {
  "kernelspec": {
   "display_name": "Python 3",
   "language": "python",
   "name": "python3"
  }
 },
 "nbformat": 4,
 "nbformat_minor": 2
}
