{
 "cells": [
  {
   "cell_type": "code",
   "execution_count": 8,
   "metadata": {},
   "outputs": [],
   "source": [
    "def hanoi(_from, _by, _to, n):\n",
    "    if n==1:\n",
    "        print(\"{}에서 {}로 {}번째 쟁반을 이동\".format(_from, _to, n))\n",
    "        return\n",
    "    \n",
    "    hanoi(_from, _to, _by, n-1)\n",
    "    print(\"{}에서 {}로 {}번째 쟁반을 이동\".format(_from, _to, n))\n",
    "    hanoi(_by, _from ,_to, n-1)\n",
    "    "
   ]
  },
  {
   "cell_type": "code",
   "execution_count": 9,
   "metadata": {},
   "outputs": [
    {
     "name": "stdout",
     "output_type": "stream",
     "text": [
      "A에서 C로 1번째 쟁반을 이동\n",
      "A에서 B로 2번째 쟁반을 이동\n",
      "C에서 B로 1번째 쟁반을 이동\n",
      "A에서 C로 3번째 쟁반을 이동\n",
      "B에서 A로 1번째 쟁반을 이동\n",
      "B에서 C로 2번째 쟁반을 이동\n",
      "A에서 C로 1번째 쟁반을 이동\n"
     ]
    }
   ],
   "source": [
    "hanoi('A', 'B', 'C', 3)"
   ]
  },
  {
   "cell_type": "code",
   "execution_count": null,
   "metadata": {},
   "outputs": [],
   "source": [
    "def hanoi(A,B,C,3):\n",
    "    if n==1:\n",
    "        print(\"{}에서 {}로 {}번째 쟁반을 이동\".format(_from, _to, n))\n",
    "        return\n",
    "    \n",
    "        def hanoi(A,C,B,2):\n",
    "            if n==1:\n",
    "                print(\"{}에서 {}로 {}번째 쟁반을 이동\".format(_from, _to, n))\n",
    "                return\n",
    "            \n",
    "            def hanoi(A,C,B,1):\n",
    "                if n==1:\n",
    "                    print(\"{}에서 {}로 {}번째 쟁반을 이동\".format(_from, _to, n))\n",
    "                    return\n",
    "\n",
    "    print(\"{}에서 {}로 {}번째 쟁반을 이동\".format(_from, _to, n))\n",
    "    hanoi(_by, _from ,_to, n-1)\n",
    "    "
   ]
  }
 ],
 "metadata": {
  "kernelspec": {
   "display_name": "Python 3",
   "language": "python",
   "name": "python3"
  },
  "language_info": {
   "codemirror_mode": {
    "name": "ipython",
    "version": 3
   },
   "file_extension": ".py",
   "mimetype": "text/x-python",
   "name": "python",
   "nbconvert_exporter": "python",
   "pygments_lexer": "ipython3",
   "version": "3.7.2"
  }
 },
 "nbformat": 4,
 "nbformat_minor": 2
}
