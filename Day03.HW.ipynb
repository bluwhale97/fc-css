{
 "cells": [
  {
   "cell_type": "code",
   "execution_count": 3,
   "metadata": {},
   "outputs": [
    {
     "name": "stdout",
     "output_type": "stream",
     "text": [
      "윤년인지 판단할 년도를 입력해 주세요. 종료하려면 '0'을 입력하여 주세요: 2016\n",
      "2016년은 윤년입니다.\n",
      "\n",
      "윤년인지 판단할 년도를 입력해 주세요. 종료하려면 '0'을 입력하여 주세요: 2015\n",
      "2015년은 평년입니다.\n",
      "\n",
      "윤년인지 판단할 년도를 입력해 주세요. 종료하려면 '0'을 입력하여 주세요: 2000\n",
      "2000년은 윤년입니다.\n",
      "\n",
      "윤년인지 판단할 년도를 입력해 주세요. 종료하려면 '0'을 입력하여 주세요: 1900\n",
      "1900년은 평년입니다.\n",
      "\n",
      "윤년인지 판단할 년도를 입력해 주세요. 종료하려면 '0'을 입력하여 주세요: -100\n",
      "잘못된 연도를 입력하셨습니다.\n",
      "\n",
      "윤년인지 판단할 년도를 입력해 주세요. 종료하려면 '0'을 입력하여 주세요: 0\n",
      "윤년판독기를 종료합니다.\n",
      "\n"
     ]
    },
    {
     "data": {
      "text/plain": [
       "True"
      ]
     },
     "execution_count": 3,
     "metadata": {},
     "output_type": "execute_result"
    }
   ],
   "source": [
    "# 함수 정의\n",
    "# False == \"평년\", True == \"윤년\"\n",
    "def leap_year(year):\n",
    "    if year % 400 == 0:\n",
    "        return True \n",
    "    elif year % 100 == 0:\n",
    "        return False\n",
    "    elif year % 4 == 0:\n",
    "        return True\n",
    "    else:\n",
    "        return False\n",
    "    \n",
    "def print_isleap(isleap, year):\n",
    "    if isleap == True:\n",
    "        print(\"{}년은 윤년입니다.\\n\".format(year))\n",
    "    else:\n",
    "        print(\"{}년은 평년입니다.\\n\".format(year))\n",
    "    return True\n",
    "\n",
    "def loop_qusetion():\n",
    "    while(True):\n",
    "        year = int(input(\"윤년인지 판단할 년도를 입력해 주세요. 종료하려면 '0'을 입력하여 주세요: \"))\n",
    "\n",
    "        if year < 0:\n",
    "            print(\"잘못된 연도를 입력하셨습니다.\\n\")\n",
    "            continue\n",
    "        elif year == 0:\n",
    "            print(\"윤년판독기를 종료합니다.\\n\")\n",
    "            return True\n",
    "        else:\n",
    "            isleap = leap_year(year)\n",
    "            print_isleap(isleap, year)\n",
    "\n",
    "# 실행 함수\n",
    "loop_qusetion()"
   ]
  },
  {
   "cell_type": "code",
   "execution_count": null,
   "metadata": {},
   "outputs": [],
   "source": []
  }
 ],
 "metadata": {
  "kernelspec": {
   "display_name": "Python 3",
   "language": "python",
   "name": "python3"
  },
  "language_info": {
   "codemirror_mode": {
    "name": "ipython",
    "version": 3
   },
   "file_extension": ".py",
   "mimetype": "text/x-python",
   "name": "python",
   "nbconvert_exporter": "python",
   "pygments_lexer": "ipython3",
   "version": "3.7.2"
  }
 },
 "nbformat": 4,
 "nbformat_minor": 2
}
