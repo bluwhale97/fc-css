{
 "cells": [
  {
   "cell_type": "markdown",
   "metadata": {},
   "source": [
    "# 추상클래스, 순수 가상 함수(추상 메서드)"
   ]
  },
  {
   "cell_type": "code",
   "execution_count": 8,
   "metadata": {},
   "outputs": [],
   "source": [
    "from abc import ABCMeta, abstractmethod\n",
    "\n",
    "# @abstractmethod 가 들어가 있으면\n",
    "# 추상 클래스\n",
    "# 객체를 생성할 수 없다!\n",
    "# 이 클래스를 상속 받는 자식 클래스는 반드시 추상 메서드를\n",
    "# 반드시 오버라이드(재정의) 해야한다!!\n",
    "# --> 인터페이스를 강제 한다.\n",
    "class Animal(metaclass=ABCMeta):\n",
    "    # 몸체가 없는 함수 : 추상 메서드 (순수 가상 함수)\n",
    "    @abstractmethod\n",
    "    def say(self):\n",
    "        pass\n",
    "    \n",
    "class Dog(Animal):\n",
    "    def say(self):\n",
    "        print(\"멍멍\")\n",
    "\n",
    "class Cat(Animal):\n",
    "    def say(self):\n",
    "        print(\"야옹\")\n",
    "        \n",
    "class Duck(Animal):\n",
    "    def say(self):\n",
    "        print(\"꽥꽥\")"
   ]
  },
  {
   "cell_type": "code",
   "execution_count": 3,
   "metadata": {},
   "outputs": [],
   "source": [
    "animals = []\n",
    "animals.append(Dog())\n",
    "animals.append(Cat())\n",
    "animals.append(Duck())"
   ]
  },
  {
   "cell_type": "code",
   "execution_count": 4,
   "metadata": {},
   "outputs": [
    {
     "name": "stdout",
     "output_type": "stream",
     "text": [
      "멍멍\n",
      "야옹\n",
      "꽥꽥\n"
     ]
    }
   ],
   "source": [
    "for animal in animals:\n",
    "    animal.say()"
   ]
  },
  {
   "cell_type": "code",
   "execution_count": 9,
   "metadata": {},
   "outputs": [],
   "source": [
    "class Dog(Animal):\n",
    "    pass"
   ]
  },
  {
   "cell_type": "markdown",
   "metadata": {},
   "source": [
    "# selfdriving car"
   ]
  },
  {
   "cell_type": "code",
   "execution_count": 11,
   "metadata": {},
   "outputs": [],
   "source": [
    "class CarOwner:\n",
    "    def __init__(self, name):\n",
    "        self.name = name\n",
    "    \n",
    "    def concentrate(self):\n",
    "        print('{} is concentationg!! do not disturb'.format(self.name))"
   ]
  },
  {
   "cell_type": "code",
   "execution_count": 21,
   "metadata": {},
   "outputs": [],
   "source": [
    "class Car:\n",
    "    def __init__(self, owner_name):\n",
    "        self.carowner = CarOwner(owner_name)\n",
    "        \n",
    "    def drive(self):\n",
    "        self.carowner.concentrate()\n",
    "        print('{} is driving this car'.format(self.carowner.name))"
   ]
  },
  {
   "cell_type": "code",
   "execution_count": 22,
   "metadata": {},
   "outputs": [],
   "source": [
    "class SelfDrivingCar(Car):\n",
    "    def drive(self):\n",
    "        print('the car is driving by itself')"
   ]
  },
  {
   "cell_type": "code",
   "execution_count": 23,
   "metadata": {},
   "outputs": [],
   "source": [
    "yang = Car('yang')\n",
    "kim = SelfDrivingCar('kim')"
   ]
  },
  {
   "cell_type": "code",
   "execution_count": 24,
   "metadata": {},
   "outputs": [],
   "source": [
    "cars = list()\n",
    "cars.append(yang)\n",
    "cars.append(kim)"
   ]
  },
  {
   "cell_type": "code",
   "execution_count": 25,
   "metadata": {},
   "outputs": [
    {
     "name": "stdout",
     "output_type": "stream",
     "text": [
      "yang is concentationg!! do not disturb\n",
      "yang is driving this car\n",
      "the car is driving by itself\n"
     ]
    }
   ],
   "source": [
    "for car in cars:\n",
    "    car.drive()"
   ]
  },
  {
   "cell_type": "code",
   "execution_count": null,
   "metadata": {},
   "outputs": [],
   "source": []
  }
 ],
 "metadata": {
  "kernelspec": {
   "display_name": "Python 3",
   "language": "python",
   "name": "python3"
  },
  "language_info": {
   "codemirror_mode": {
    "name": "ipython",
    "version": 3
   },
   "file_extension": ".py",
   "mimetype": "text/x-python",
   "name": "python",
   "nbconvert_exporter": "python",
   "pygments_lexer": "ipython3",
   "version": "3.7.2"
  }
 },
 "nbformat": 4,
 "nbformat_minor": 2
}
