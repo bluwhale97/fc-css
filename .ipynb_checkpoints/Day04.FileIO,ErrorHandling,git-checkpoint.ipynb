{
 "cells": [
  {
   "cell_type": "markdown",
   "metadata": {},
   "source": [
    "# H.W Review"
   ]
  },
  {
   "cell_type": "code",
   "execution_count": 18,
   "metadata": {},
   "outputs": [
    {
     "data": {
      "text/plain": [
       "'10년은 평년입니다.'"
      ]
     },
     "execution_count": 18,
     "metadata": {},
     "output_type": "execute_result"
    }
   ],
   "source": [
    "# 윤년의 정의\n",
    "# 윤년은 4년에 한번 돌아오는데\n",
    "# 100의 배수면 평년이고, \n",
    "# 400의 배수면 윤년이다.\n",
    "\n",
    "year = 10\n",
    "def is_leap(year):\n",
    "    if isinstance(year,int) and year > 0:\n",
    "        result = \"\"\n",
    "        if year % 400 == 0:  # and와 or을 이용해서 if 문 하나로 abstract\n",
    "            result = \"윤년.\"\n",
    "        elif year % 100 == 0:\n",
    "            result = \"평년\"\n",
    "        elif year % 4 == 0:\n",
    "            result = \"윤년\"\n",
    "        else:\n",
    "            result = \"평년\"\n",
    "        return \"{}년은 {}입니다.\".format(year,result)\n",
    "    elif isinstance(year,int) and year <= 0:\n",
    "        return \"연도는 AD여야 합니다.(양의 정수)\"\n",
    "    else:\n",
    "        return False\n",
    "    \n",
    "is_leap(year)"
   ]
  },
  {
   "cell_type": "code",
   "execution_count": 10,
   "metadata": {},
   "outputs": [
    {
     "name": "stdout",
     "output_type": "stream",
     "text": [
      "stay: 333097(0.333097), switch 666903(0.666903)\n"
     ]
    }
   ],
   "source": [
    "# Monty Hall Problem\n",
    "\n",
    "import random\n",
    "\n",
    "stay = 0\n",
    "switch = 0\n",
    "trial = 1000000\n",
    "\n",
    "for _ in range(trial):\n",
    "    doors = [0,0,1] # 염소 2마리, 스포츠카 1대\n",
    "    random.shuffle(doors)\n",
    "    \n",
    "    random.randrange(3)\n",
    "    choice = random.randrange(3)\n",
    "    user = doors.pop(choice)\n",
    "    \n",
    "    if user == 1:\n",
    "        stay += 1\n",
    "    elif user == 0:\n",
    "        switch += 1\n",
    "    \n",
    "print(\"stay: {0}({1}), switch {2}({3})\".format(\n",
    "    stay, stay/trial, switch, switch/trial))\n",
    "    "
   ]
  },
  {
   "cell_type": "markdown",
   "metadata": {},
   "source": [
    "# Next H.W"
   ]
  },
  {
   "cell_type": "markdown",
   "metadata": {},
   "source": [
    "binet's theorem \\n\n",
    "is_leap 한줄로"
   ]
  },
  {
   "cell_type": "markdown",
   "metadata": {},
   "source": [
    "# Lecture"
   ]
  },
  {
   "cell_type": "markdown",
   "metadata": {},
   "source": [
    "Recursive"
   ]
  },
  {
   "cell_type": "code",
   "execution_count": 15,
   "metadata": {},
   "outputs": [],
   "source": [
    "def recurse_beast(n):\n",
    "    if n == 1:\n",
    "        print(\"Final Fusion!\")\n",
    "        return \"Recurse complete!\"\n",
    "    else:\n",
    "        print(\"Fusion! ({} times left)\".format(n-1))\n",
    "        return recurse_beast(n-1)"
   ]
  },
  {
   "cell_type": "code",
   "execution_count": 16,
   "metadata": {},
   "outputs": [
    {
     "name": "stdout",
     "output_type": "stream",
     "text": [
      "How many times do you want to curse beast?: 1\n",
      "Final Fusion!\n"
     ]
    },
    {
     "data": {
      "text/plain": [
       "'Recurse complete!'"
      ]
     },
     "execution_count": 16,
     "metadata": {},
     "output_type": "execute_result"
    }
   ],
   "source": [
    "trial = int(input(\"How many times do you want to curse beast?: \"))\n",
    "recurse_beast(trial)"
   ]
  },
  {
   "cell_type": "markdown",
   "metadata": {},
   "source": [
    "List Comprehension"
   ]
  },
  {
   "cell_type": "code",
   "execution_count": 32,
   "metadata": {},
   "outputs": [
    {
     "data": {
      "text/plain": [
       "[4, 8, 12, 16, 20]"
      ]
     },
     "execution_count": 32,
     "metadata": {},
     "output_type": "execute_result"
    }
   ],
   "source": [
    "old_list = list(range(1, 10+1)) # [1,2,3,4,5,6,7,8,9,10]\n",
    "\n",
    "new_list = []\n",
    "for item in old_list:\n",
    "    if item%2==0:\n",
    "        result = item * 2\n",
    "        new_list.append(result)\n",
    "    \n",
    "new_list # [2,4,6,8...]"
   ]
  },
  {
   "cell_type": "code",
   "execution_count": 24,
   "metadata": {},
   "outputs": [
    {
     "data": {
      "text/plain": [
       "[2, 4, 6, 8, 10, 12, 14, 16, 18, 20]"
      ]
     },
     "execution_count": 24,
     "metadata": {},
     "output_type": "execute_result"
    }
   ],
   "source": [
    "new_list = [item * 2 for item in old_list]\n",
    "new_list"
   ]
  },
  {
   "cell_type": "code",
   "execution_count": 28,
   "metadata": {},
   "outputs": [],
   "source": [
    "old_list = list(range(1,10+1))\n",
    "\n",
    "new_list = []\n",
    "\n",
    "for item in old_list:\n",
    "    if item%2==0:\n",
    "        new_list.append(item*2)\n",
    "        \n",
    "new_list"
   ]
  },
  {
   "cell_type": "code",
   "execution_count": 29,
   "metadata": {},
   "outputs": [
    {
     "data": {
      "text/plain": [
       "[4, 8, 12, 16, 20]"
      ]
     },
     "execution_count": 29,
     "metadata": {},
     "output_type": "execute_result"
    }
   ],
   "source": [
    "new_list = [item*2 for item in old_list if item%2==0]\n",
    "new_list"
   ]
  },
  {
   "cell_type": "code",
   "execution_count": 33,
   "metadata": {},
   "outputs": [
    {
     "data": {
      "text/plain": [
       "[1, 4, 9, 8, 25, 12, 49, 16, 81, 20]"
      ]
     },
     "execution_count": 33,
     "metadata": {},
     "output_type": "execute_result"
    }
   ],
   "source": [
    "old_list = list(range(1,10+1))\n",
    "\n",
    "new_list = []\n",
    "\n",
    "for item in old_list:\n",
    "    if item%2==0:\n",
    "        new_list.append(item*2)\n",
    "    else:\n",
    "        new_list.append(item**2)\n",
    "            \n",
    "new_list"
   ]
  },
  {
   "cell_type": "code",
   "execution_count": 36,
   "metadata": {},
   "outputs": [
    {
     "data": {
      "text/plain": [
       "'b'"
      ]
     },
     "execution_count": 36,
     "metadata": {},
     "output_type": "execute_result"
    }
   ],
   "source": [
    "# 삼항연산자\n",
    "\"a\" if False else \"b\""
   ]
  },
  {
   "cell_type": "code",
   "execution_count": 38,
   "metadata": {},
   "outputs": [
    {
     "data": {
      "text/plain": [
       "'c'"
      ]
     },
     "execution_count": 38,
     "metadata": {},
     "output_type": "execute_result"
    }
   ],
   "source": [
    "\"a\" if False else \"b\" if False else \"c\""
   ]
  },
  {
   "cell_type": "code",
   "execution_count": 35,
   "metadata": {},
   "outputs": [
    {
     "data": {
      "text/plain": [
       "[1, 4, 9, 8, 25, 12, 49, 16, 81, 20]"
      ]
     },
     "execution_count": 35,
     "metadata": {},
     "output_type": "execute_result"
    }
   ],
   "source": [
    "new_list = [item*2 if item%2==0 else item**2 for item in old_list ]\n",
    "new_list"
   ]
  },
  {
   "cell_type": "code",
   "execution_count": 59,
   "metadata": {},
   "outputs": [],
   "source": [
    "# FizzBuzz with list comprehenshion\n",
    "\n",
    "num_list = [i for i in range (1,100+1)]\n",
    "\n",
    "\n",
    "fizz_buzz = [ \n",
    "    \"fizzbuzz\" if i%15==0 else \n",
    "    \"fizz\" if i%3==0 else \n",
    "    \"buzz\" if i%5==0 else i \n",
    "    for i in num_list]\n",
    "# fizz_buzz"
   ]
  },
  {
   "cell_type": "markdown",
   "metadata": {},
   "source": [
    "# File I/O"
   ]
  },
  {
   "cell_type": "code",
   "execution_count": 60,
   "metadata": {},
   "outputs": [],
   "source": [
    "f = open('./newfile.txt','w') # mode: read, write, append\n",
    "f.close()"
   ]
  },
  {
   "cell_type": "code",
   "execution_count": 68,
   "metadata": {},
   "outputs": [],
   "source": [
    "f = open('./newfile.txt','w')\n",
    "f.write('Hello, there! \\n')\n",
    "f.close()"
   ]
  },
  {
   "cell_type": "code",
   "execution_count": 71,
   "metadata": {},
   "outputs": [],
   "source": [
    "f = open('./newfile.txt', 'w')\n",
    "for i in range(1,10+1):\n",
    "    f.write(\"Hello, \\t{}th line!\\n\".format(i))\n",
    "f.close()"
   ]
  },
  {
   "cell_type": "code",
   "execution_count": 73,
   "metadata": {},
   "outputs": [],
   "source": [
    "f = open('./newfile.txt', 'a')\n",
    "for i in range(11,20+1):\n",
    "    f.write(\"Hello,Another \\t{}th line!\\n\".format(i))\n",
    "f.close()"
   ]
  },
  {
   "cell_type": "code",
   "execution_count": 75,
   "metadata": {},
   "outputs": [
    {
     "name": "stdout",
     "output_type": "stream",
     "text": [
      "Hello, \t1th line!\n",
      "\n"
     ]
    }
   ],
   "source": [
    "f = open('./newfile.txt', 'r')\n",
    "\n",
    "text = f.readline()\n",
    "print(text)\n",
    "\n",
    "f.close()"
   ]
  },
  {
   "cell_type": "code",
   "execution_count": 83,
   "metadata": {},
   "outputs": [
    {
     "name": "stdout",
     "output_type": "stream",
     "text": [
      "Hello, 1th line!\n",
      "Hello, 2th line!\n",
      "Hello, 3th line!\n",
      "Hello, 4th line!\n",
      "Hello, 5th line!\n",
      "Hello, 6th line!\n",
      "Hello, 7th line!\n",
      "Hello, 8th line!\n",
      "Hello, 9th line!\n",
      "Hello, 10th line!\n",
      "Hello,Another 11th line!\n",
      "Hello,Another 12th line!\n",
      "Hello,Another 13th line!\n",
      "Hello,Another 14th line!\n",
      "Hello,Another 15th line!\n",
      "Hello,Another 16th line!\n",
      "Hello,Another 17th line!\n",
      "Hello,Another 18th line!\n",
      "Hello,Another 19th line!\n",
      "Hello,Another 20th line!\n"
     ]
    }
   ],
   "source": [
    "with open('./newfile.txt','r') as f:\n",
    "    text = f.readlines()\n",
    "    for line in text:\n",
    "        print(line.replace(\"\\n\",\"\").replace(\"\\t\",\"\"))"
   ]
  },
  {
   "cell_type": "markdown",
   "metadata": {},
   "source": [
    "# Error Handle"
   ]
  },
  {
   "cell_type": "code",
   "execution_count": 25,
   "metadata": {},
   "outputs": [
    {
     "ename": "SyntaxError",
     "evalue": "invalid syntax (<ipython-input-25-5a740eacdd2b>, line 4)",
     "output_type": "error",
     "traceback": [
      "\u001b[1;36m  File \u001b[1;32m\"<ipython-input-25-5a740eacdd2b>\"\u001b[1;36m, line \u001b[1;32m4\u001b[0m\n\u001b[1;33m    1 2 +\u001b[0m\n\u001b[1;37m      ^\u001b[0m\n\u001b[1;31mSyntaxError\u001b[0m\u001b[1;31m:\u001b[0m invalid syntax\n"
     ]
    }
   ],
   "source": [
    "def number_parser():\n",
    "    try:\n",
    "        your_number = int(input(\"Type the number 1 to 100: \"))\n",
    "        1 2 +\n",
    "    except ValueError as e:\n",
    "        print(\"I SAID NUMBER!\")\n",
    "        number_parser()\n",
    "    except SyntaxError:\n",
    "        print(\"I Think My lord had mistake...\")\n",
    "    finally:\n",
    "        print(\"I don't know isn't it succuss, but i executed\")"
   ]
  },
  {
   "cell_type": "code",
   "execution_count": 24,
   "metadata": {},
   "outputs": [
    {
     "name": "stdout",
     "output_type": "stream",
     "text": [
      "Type the number 1 to 100: d\n",
      "I SAID NUMBER!\n",
      "Type the number 1 to 100: 안녕\n",
      "I SAID NUMBER!\n",
      "Type the number 1 to 100: 안녕\n",
      "I SAID NUMBER!\n",
      "Type the number 1 to 100: 1\n",
      "I don't know isn't it succuss, but i executed\n",
      "I don't know isn't it succuss, but i executed\n",
      "I don't know isn't it succuss, but i executed\n",
      "I don't know isn't it succuss, but i executed\n"
     ]
    }
   ],
   "source": [
    "number_parser()"
   ]
  },
  {
   "cell_type": "code",
   "execution_count": null,
   "metadata": {},
   "outputs": [],
   "source": []
  }
 ],
 "metadata": {
  "kernelspec": {
   "display_name": "Python 3",
   "language": "python",
   "name": "python3"
  },
  "language_info": {
   "codemirror_mode": {
    "name": "ipython",
    "version": 3
   },
   "file_extension": ".py",
   "mimetype": "text/x-python",
   "name": "python",
   "nbconvert_exporter": "python",
   "pygments_lexer": "ipython3",
   "version": "3.7.2"
  }
 },
 "nbformat": 4,
 "nbformat_minor": 2
}
