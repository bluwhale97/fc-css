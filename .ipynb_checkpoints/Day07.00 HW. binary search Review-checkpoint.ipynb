{
 "cells": [
  {
   "cell_type": "code",
   "execution_count": 9,
   "metadata": {},
   "outputs": [],
   "source": [
    "li = [2,5,7,10,12,15,24]\n",
    "def binary_search(li, target):\n",
    "    \"\"\" # document 표현 방법\n",
    "    binary_search(list, target)->idx\n",
    "    list : 정렬된 데이터, 리스트\n",
    "    target: 찾고자 하는 element(요소)\n",
    "    반환값: 찾은 요소의 인덱스, 없다면 None을 반환\n",
    "    \"\"\"\n",
    "    start = 0\n",
    "    end = len(li)-1\n",
    "    \n",
    "    while start <= end:\n",
    "        mid = (start + end)//2\n",
    "        if li[mid]==target:\n",
    "            return mid\n",
    "        elif li[mid] < target:\n",
    "            start = mid +1\n",
    "        else:\n",
    "            end = mid-1\n",
    "        return None"
   ]
  },
  {
   "cell_type": "code",
   "execution_count": 10,
   "metadata": {},
   "outputs": [
    {
     "name": "stdout",
     "output_type": "stream",
     "text": [
      "Help on function binary_search in module __main__:\n",
      "\n",
      "binary_search(li, target)\n",
      "    # document 표현 방법\n",
      "    binary_search(list, target)->idx\n",
      "    list : 정렬된 데이터, 리스트\n",
      "    target: 찾고자 하는 element(요소)\n",
      "    반환값: 찾은 요소의 인덱스, 없다면 None을 반환\n",
      "\n"
     ]
    }
   ],
   "source": [
    "help(binary_search)"
   ]
  },
  {
   "cell_type": "code",
   "execution_count": 11,
   "metadata": {},
   "outputs": [
    {
     "data": {
      "text/plain": [
       "3"
      ]
     },
     "execution_count": 11,
     "metadata": {},
     "output_type": "execute_result"
    }
   ],
   "source": [
    "binary_search(li, 10)"
   ]
  },
  {
   "cell_type": "code",
   "execution_count": null,
   "metadata": {},
   "outputs": [],
   "source": []
  }
 ],
 "metadata": {
  "kernelspec": {
   "display_name": "Python 3",
   "language": "python",
   "name": "python3"
  },
  "language_info": {
   "codemirror_mode": {
    "name": "ipython",
    "version": 3
   },
   "file_extension": ".py",
   "mimetype": "text/x-python",
   "name": "python",
   "nbconvert_exporter": "python",
   "pygments_lexer": "ipython3",
   "version": "3.7.2"
  }
 },
 "nbformat": 4,
 "nbformat_minor": 2
}
