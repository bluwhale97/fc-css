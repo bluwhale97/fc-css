{
 "cells": [
  {
   "cell_type": "code",
   "execution_count": 1,
   "metadata": {
    "scrolled": true
   },
   "outputs": [
    {
     "name": "stdout",
     "output_type": "stream",
     "text": [
      "hello, python finally!\n"
     ]
    }
   ],
   "source": [
    "print(\"hello, python finally!\")"
   ]
  },
  {
   "cell_type": "code",
   "execution_count": 12,
   "metadata": {},
   "outputs": [],
   "source": [
    "import antigravity\n",
    "import this"
   ]
  },
  {
   "cell_type": "code",
   "execution_count": 8,
   "metadata": {
    "scrolled": false
   },
   "outputs": [
    {
     "data": {
      "text/plain": [
       "(2, 1, 21, 2.0, 2)"
      ]
     },
     "execution_count": 8,
     "metadata": {},
     "output_type": "execute_result"
    }
   ],
   "source": [
    "##산술 연산자 operator\n",
    "1+1,5-4,3*7,4/2,4//2"
   ]
  },
  {
   "cell_type": "code",
   "execution_count": 17,
   "metadata": {
    "scrolled": true
   },
   "outputs": [
    {
     "name": "stdout",
     "output_type": "stream",
     "text": [
      "4/2=  <class 'float'> <class 'int'> <class 'float'>\n"
     ]
    }
   ],
   "source": [
    "## 4/2 = 2.0 4//2 = 2\n",
    "print(\"4/2= \",type(4/2),type(4//2), type(7/2))"
   ]
  },
  {
   "cell_type": "code",
   "execution_count": 19,
   "metadata": {},
   "outputs": [
    {
     "data": {
      "text/plain": [
       "4"
      ]
     },
     "execution_count": 19,
     "metadata": {},
     "output_type": "execute_result"
    }
   ],
   "source": [
    "2**2"
   ]
  },
  {
   "cell_type": "code",
   "execution_count": 25,
   "metadata": {},
   "outputs": [
    {
     "data": {
      "text/plain": [
       "(True, False, True, False, False, True)"
      ]
     },
     "execution_count": 25,
     "metadata": {},
     "output_type": "execute_result"
    }
   ],
   "source": [
    "##비교연산자 \n",
    "7 > 2, 7 < 2, 7 >= 2, 7<= 2, 7 == 2, 7 != 2\n",
    "\n",
    "## asignment operator '='"
   ]
  },
  {
   "cell_type": "code",
   "execution_count": 28,
   "metadata": {},
   "outputs": [
    {
     "data": {
      "text/plain": [
       "(str, True)"
      ]
     },
     "execution_count": 28,
     "metadata": {},
     "output_type": "execute_result"
    }
   ],
   "source": [
    "type(\"강아지\"), type('강아지') == type('고양이')"
   ]
  },
  {
   "cell_type": "code",
   "execution_count": 31,
   "metadata": {},
   "outputs": [
    {
     "data": {
      "text/plain": [
       "'고양이'"
      ]
     },
     "execution_count": 31,
     "metadata": {},
     "output_type": "execute_result"
    }
   ],
   "source": [
    "##variable 변수\n",
    "강아지 = '고양이' ##한글가능하다\n",
    "강아지"
   ]
  },
  {
   "cell_type": "code",
   "execution_count": 32,
   "metadata": {},
   "outputs": [
    {
     "ename": "SyntaxError",
     "evalue": "invalid syntax (<ipython-input-32-1a9b7de431a2>, line 4)",
     "output_type": "error",
     "traceback": [
      "\u001b[1;36m  File \u001b[1;32m\"<ipython-input-32-1a9b7de431a2>\"\u001b[1;36m, line \u001b[1;32m4\u001b[0m\n\u001b[1;33m    compute(x,y){\u001b[0m\n\u001b[1;37m                ^\u001b[0m\n\u001b[1;31mSyntaxError\u001b[0m\u001b[1;31m:\u001b[0m invalid syntax\n"
     ]
    }
   ],
   "source": [
    "# 2x + 3y = c\n",
    "num1 = 12\n",
    "num2 = 7\n",
    "compute(x,y){\n",
    "    num3 = (2*num1) + (3*num2)\n",
    "    print(num3)\n",
    "}\n",
    "\n",
    "compute(num1,num2)"
   ]
  },
  {
   "cell_type": "code",
   "execution_count": 42,
   "metadata": {},
   "outputs": [
    {
     "name": "stdout",
     "output_type": "stream",
     "text": [
      "원의 지름:  20\n",
      "원의 둘레:  62.83184\n",
      "원의 넓이:  314.1592\n",
      "구의 겉넓이:  1256.6368\n",
      "구의 부피:  3141.592\n",
      "20\n",
      "62.83184\n",
      "314.1592\n",
      "1256.6368\n",
      "4188.789333333333\n"
     ]
    }
   ],
   "source": [
    "##반지른 (r=10)을 선언한 뒤,\n",
    "#이를 이용하여 원의 지름, 둘레, 넓이, 구의 겉넓이, 부피를\n",
    "#각각 출력하는 파이썬 파일을 만들어 보세요. (pi=3.141592)\n",
    "\n",
    "r = 10\n",
    "pi = 3.141592\n",
    "\n",
    "#원의 둘레 2*pi*r\n",
    "#원의 넓이 r**2 * pi\n",
    "#구의 겉넓이 (4*pi*(r**2)\n",
    "#구의 부피 (4/3)*pi*(r**3)\n",
    "\n",
    "print(\"원의 지름: \", 2 * r)\n",
    "print(\"원의 둘레: \", 2*pi*r)\n",
    "print(\"원의 넓이: \", (r**2) * pi)\n",
    "print(\"구의 겉넓이: \", 4 * pi * (r**2) )\n",
    "print(\"구의 부피: \", (4//3) * pi * (r**3))\n",
    "\n",
    "a = 2 * r\n",
    "b = 2 * pi * r\n",
    "c = pi * r ** 2\n",
    "d = 4 * pi * (r ** 2)\n",
    "e = (4 / 3) * pi * (r ** 3)\n",
    "\n",
    "print(a)\n",
    "print(b)\n",
    "print(c)\n",
    "print(d)\n",
    "print(e)"
   ]
  },
  {
   "cell_type": "code",
   "execution_count": null,
   "metadata": {},
   "outputs": [],
   "source": []
  }
 ],
 "metadata": {
  "kernelspec": {
   "display_name": "Python 3",
   "language": "python",
   "name": "python3"
  },
  "language_info": {
   "codemirror_mode": {
    "name": "ipython",
    "version": 3
   },
   "file_extension": ".py",
   "mimetype": "text/x-python",
   "name": "python",
   "nbconvert_exporter": "python",
   "pygments_lexer": "ipython3",
   "version": "3.7.2"
  }
 },
 "nbformat": 4,
 "nbformat_minor": 2
}
