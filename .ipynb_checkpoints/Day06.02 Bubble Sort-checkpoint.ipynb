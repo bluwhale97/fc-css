{
 "cells": [
  {
   "cell_type": "markdown",
   "metadata": {},
   "source": [
    "# Bubble Sort"
   ]
  },
  {
   "cell_type": "code",
   "execution_count": 30,
   "metadata": {},
   "outputs": [
    {
     "name": "stdout",
     "output_type": "stream",
     "text": [
      "3\n",
      "3 *\n",
      "3 *\n",
      "3 *\n",
      "3\n",
      "2 *\n",
      "2 *\n",
      "3\n",
      "1 *\n"
     ]
    },
    {
     "data": {
      "text/plain": [
       "([9, 7, 4, 2], 4)"
      ]
     },
     "execution_count": 30,
     "metadata": {},
     "output_type": "execute_result"
    }
   ],
   "source": [
    "li = [7,2,4,9]\n",
    "n = len(li)\n",
    "for i in range(n-1):\n",
    "    print(n-1)\n",
    "    for j in range(n-1-i):\n",
    "        print(n-1-i,\"*\")\n",
    "        if li[j]< li[j+1]:\n",
    "            li[j],li[j+1] = li[j+1],li[j]\n",
    "li,n"
   ]
  },
  {
   "cell_type": "code",
   "execution_count": 32,
   "metadata": {},
   "outputs": [
    {
     "data": {
      "text/plain": [
       "[1, 2, 3, 4, 5, 6, 7, 8, 9, 10]"
      ]
     },
     "execution_count": 32,
     "metadata": {},
     "output_type": "execute_result"
    }
   ],
   "source": [
    "li = [i for i in range(1, 10+1)]\n",
    "num = int(input(\"찾고자 하는 숫자 (1~10): \"))\n",
    "\n",
    "def binary_search(li,target):\n",
    "    for i in range(li):\n",
    "        \n",
    "    "
   ]
  },
  {
   "cell_type": "code",
   "execution_count": null,
   "metadata": {},
   "outputs": [],
   "source": []
  }
 ],
 "metadata": {
  "kernelspec": {
   "display_name": "Python 3",
   "language": "python",
   "name": "python3"
  },
  "language_info": {
   "codemirror_mode": {
    "name": "ipython",
    "version": 3
   },
   "file_extension": ".py",
   "mimetype": "text/x-python",
   "name": "python",
   "nbconvert_exporter": "python",
   "pygments_lexer": "ipython3",
   "version": "3.7.2"
  }
 },
 "nbformat": 4,
 "nbformat_minor": 2
}
