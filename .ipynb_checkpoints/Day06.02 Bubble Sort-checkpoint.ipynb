{
 "cells": [
  {
   "cell_type": "markdown",
   "metadata": {},
   "source": [
    "# Bubble Sort"
   ]
  },
  {
   "cell_type": "code",
   "execution_count": 30,
   "metadata": {},
   "outputs": [
    {
     "name": "stdout",
     "output_type": "stream",
     "text": [
      "3\n",
      "3 *\n",
      "3 *\n",
      "3 *\n",
      "3\n",
      "2 *\n",
      "2 *\n",
      "3\n",
      "1 *\n"
     ]
    },
    {
     "data": {
      "text/plain": [
       "([9, 7, 4, 2], 4)"
      ]
     },
     "execution_count": 30,
     "metadata": {},
     "output_type": "execute_result"
    }
   ],
   "source": [
    "li = [7,2,4,9]\n",
    "n = len(li)\n",
    "for i in range(n-1):\n",
    "    print(n-1)\n",
    "    for j in range(n-1-i):\n",
    "        print(n-1-i,\"*\")\n",
    "        if li[j]< li[j+1]:\n",
    "            li[j],li[j+1] = li[j+1],li[j]\n",
    "li,n"
   ]
  },
  {
   "cell_type": "code",
   "execution_count": 48,
   "metadata": {},
   "outputs": [
    {
     "name": "stdout",
     "output_type": "stream",
     "text": [
      "찾고자 하는 숫자를 입력하세요: 2\n",
      "리스트 입니다. [1, 2, 3, 4, 5, 6, 7, 8, 9, 10]\n",
      "1번 인덱스에 있습니다.\n"
     ]
    }
   ],
   "source": [
    "import math\n",
    "\n",
    "# binary search의 선행조건: 리스트가 정렬되어 있다\n",
    "li = [i for i in range(1, 10+1)]\n",
    "target = int(input(\"찾고자 하는 숫자를 입력하세요: \"))\n",
    "print(\"리스트 입니다. {}\".format(li))\n",
    "\n",
    "#binary_ search function\n",
    "def binary_search(li,target):\n",
    "    start_index = 0\n",
    "    end_index = len(li) - 1\n",
    "    mid_index = (end_index + start_index) // 2\n",
    "    \n",
    "    # 반복할 횟수 찾기\n",
    "    for_count = end_index\n",
    "    count = 0\n",
    "    while for_count != 1:\n",
    "        for_count = for_count // 2\n",
    "        count += 1\n",
    "\n",
    "    # binary search\n",
    "    for _ in range(count + 1):\n",
    "        if target < li[mid_index]:\n",
    "            end_index = mid_index\n",
    "            mid_index = (start_index + end_index) // 2\n",
    "        elif target > li[mid_index]:\n",
    "            start_index = mid_index\n",
    "            mid_index = math.ceil((start_index + end_index) / 2)\n",
    "        elif target == li[mid_index]:\n",
    "            return mid_index\n",
    "        else:\n",
    "            return None\n",
    "        \n",
    "find = binary_search(li,target)        \n",
    "print(\"{}번 인덱스에 있습니다.\".format(find))"
   ]
  },
  {
   "cell_type": "code",
   "execution_count": null,
   "metadata": {},
   "outputs": [],
   "source": []
  },
  {
   "cell_type": "code",
   "execution_count": null,
   "metadata": {},
   "outputs": [],
   "source": []
  }
 ],
 "metadata": {
  "kernelspec": {
   "display_name": "Python 3",
   "language": "python",
   "name": "python3"
  },
  "language_info": {
   "codemirror_mode": {
    "name": "ipython",
    "version": 3
   },
   "file_extension": ".py",
   "mimetype": "text/x-python",
   "name": "python",
   "nbconvert_exporter": "python",
   "pygments_lexer": "ipython3",
   "version": "3.7.2"
  }
 },
 "nbformat": 4,
 "nbformat_minor": 2
}
